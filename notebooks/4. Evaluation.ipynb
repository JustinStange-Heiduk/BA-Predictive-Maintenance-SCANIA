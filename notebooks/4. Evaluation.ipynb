{
 "cells": [
  {
   "cell_type": "markdown",
   "id": "353645c2",
   "metadata": {},
   "source": [
    "# Predictive Maintenance mit SCANIA-Daten – Evaluation\n",
    "\n",
    "**Projekt:** Bachelorarbeit Data Science  \n",
    "**Thema:** \n",
    "**Datengrundlage:** SCANIA Component X Dataset  \n",
    "**Autor:** Justin Stange-Heiduk  \n",
    "**Betreuung:** Dr. Martin Prause  \n",
    "**Ziel:** Evaluation der Modelle XGBoost mit AFT und Random Forest Survival  \n",
    "\n",
    "---\n",
    "\n",
    "**Erstellt:** 2025-09-08\n",
    "**Letzte Änderung:** 2025-09-08\n",
    "\n",
    "\n",
    "---"
   ]
  },
  {
   "cell_type": "code",
   "execution_count": 185,
   "id": "00745881",
   "metadata": {},
   "outputs": [],
   "source": [
    "import os\n",
    "import pickle\n",
    "import joblib\n",
    "import json\n",
    "from typing import Dict, Any, Iterable, Tuple\n",
    "from sksurv.util import Surv\n",
    "from sksurv.metrics import  brier_score\n",
    "import numpy as np\n",
    "import pandas as pd\n",
    "from sklearn.metrics import confusion_matrix\n",
    "import seaborn as sns\n",
    "import matplotlib.pyplot as plt\n",
    "import xgboost as xgb\n",
    "import scipy\n",
    "\n"
   ]
  },
  {
   "cell_type": "code",
   "execution_count": 190,
   "id": "29ce2f2d",
   "metadata": {},
   "outputs": [],
   "source": [
    "%run \"0. CommonFunctions.ipynb\""
   ]
  },
  {
   "cell_type": "markdown",
   "id": "6bc5aa8f",
   "metadata": {},
   "source": [
    "### 1. RSF\n",
    "#### 1.1 Brier-Score\n",
    "#### 1.1 Kostenanalyse\n",
    "### 2. XGBoost\n",
    "#### 2.1 Brier-Score\n",
    "#### 2.2 Kostenanalyse"
   ]
  },
  {
   "cell_type": "markdown",
   "id": "0c3e7ffb",
   "metadata": {},
   "source": [
    "### 1. RSF"
   ]
  },
  {
   "cell_type": "markdown",
   "id": "352eb4d0",
   "metadata": {},
   "source": [
    "#### Modell laden"
   ]
  },
  {
   "cell_type": "code",
   "execution_count": 119,
   "id": "d0da2b8f",
   "metadata": {},
   "outputs": [],
   "source": [
    "def load_model(model_path: str) -> Any:\n",
    "    \"\"\"\n",
    "    Load a trained survival model (RSF or AFT with XGBoost) from disk.\n",
    "\n",
    "    Args:\n",
    "        model_path (str):\n",
    "            Name of the model directory inside ../data/06_models/.\n",
    "\n",
    "    Returns:\n",
    "        Any:\n",
    "            - RandomSurvivalForest (per pickle/joblib)\n",
    "            - xgb.Booster (wenn .xgb oder .json gespeichert wurde)\n",
    "    \"\"\"\n",
    "    model_dir = os.path.join(\"../data/06_models\", model_path)\n",
    "\n",
    "    # Look for model files inside the directory\n",
    "    candidates = [\n",
    "        os.path.join(model_dir, f) for f in os.listdir(model_dir)\n",
    "        if f.endswith((\".pkl\", \".joblib\", \".xgb\", \".json\"))\n",
    "    ]\n",
    "\n",
    "    if not candidates:\n",
    "        raise FileNotFoundError(\n",
    "            f\"No model file (.pkl, .joblib, .xgb, .json) found in {model_dir}\"\n",
    "        )\n",
    "\n",
    "    model_file = candidates[0]\n",
    "\n",
    "    try:\n",
    "        if model_file.endswith(\".joblib\"):\n",
    "            model = joblib.load(model_file)\n",
    "        elif model_file.endswith(\".pkl\"):\n",
    "            with open(model_file, \"rb\") as f:\n",
    "                model = pickle.load(f)\n",
    "        elif model_file.endswith(\".xgb\") or model_file.endswith(\".json\"):\n",
    "            booster = xgb.Booster()\n",
    "            booster.load_model(model_file)\n",
    "            model = booster\n",
    "        else:\n",
    "            raise ValueError(f\"Unsupported model format: {model_file}\")\n",
    "    except Exception as e:\n",
    "        raise RuntimeError(f\"Could not load model from {model_file}: {e}\")\n",
    "\n",
    "    return model"
   ]
  },
  {
   "cell_type": "code",
   "execution_count": 108,
   "id": "c568d5b7",
   "metadata": {},
   "outputs": [],
   "source": [
    "COST, TAUS = get_cost_and_taus()"
   ]
  },
  {
   "cell_type": "markdown",
   "id": "1a4403c8",
   "metadata": {},
   "source": [
    "#### 1.1 Brier-Score"
   ]
  },
  {
   "cell_type": "code",
   "execution_count": 206,
   "id": "ff71c2e8",
   "metadata": {},
   "outputs": [],
   "source": [
    "def rsf_brier_score_on_test(\n",
    "    rsf,\n",
    "    X_test: pd.DataFrame,\n",
    "    y_train_surv: np.ndarray,\n",
    "    y_test_surv: np.ndarray,\n",
    "    output_base: str = \"../data/07_model_output\",\n",
    "    model_subdir: str = \"RSF\",\n",
    "    time_grid: Iterable[float] | None = None\n",
    ") -> Dict[str, Any]:\n",
    "    out_dir = os.path.join(output_base, model_subdir)\n",
    "\n",
    "    # Tau = maximaler Eventzeitpunkt im Test (keine Zensur)\n",
    "    tau = float(y_test_surv[\"time\"][y_test_surv[\"event\"]].max())\n",
    "\n",
    "    # Zeitraster nur bis tau\n",
    "    if time_grid is None:\n",
    "        times = np.linspace(1.0, tau, 100)\n",
    "    else:\n",
    "        times = np.asarray(list(time_grid), dtype=float)\n",
    "        times = times[times < tau]\n",
    "\n",
    "    surv_fns = rsf.predict_survival_function(X_test, return_array=False)\n",
    "    S_mat = np.asarray([[fn(t) for t in times] for fn in surv_fns])\n",
    "\n",
    "    times_out, bs_mean = brier_score(y_train_surv, y_test_surv, S_mat, times)\n",
    "\n",
    "    ibs = float(np.trapz(bs_mean, times_out) / (times_out[-1] - times_out[0]))\n",
    "\n",
    "    results = {\n",
    "        \"ibs\": ibs,\n",
    "        \"tau\": tau,\n",
    "        \"times\": times_out.tolist(),\n",
    "        \"brier_scores\": bs_mean.tolist(),\n",
    "    }\n",
    "\n",
    "    out_path = os.path.join(out_dir, \"brier_score.json\")\n",
    "    with open(out_path, \"w\", encoding=\"utf-8\") as f:\n",
    "        json.dump(results, f, indent=2)\n",
    "\n",
    "    results[\"path\"] = out_path\n",
    "    return results\n"
   ]
  },
  {
   "cell_type": "markdown",
   "id": "e4d15b34",
   "metadata": {},
   "source": [
    "#### Anwendung"
   ]
  },
  {
   "cell_type": "code",
   "execution_count": 225,
   "id": "a7a27827",
   "metadata": {},
   "outputs": [],
   "source": [
    "rsf_model = load_model(\"RSF_final_model\")"
   ]
  },
  {
   "cell_type": "code",
   "execution_count": 200,
   "id": "6c3473b6",
   "metadata": {},
   "outputs": [],
   "source": [
    "x_test, y_test = prepare_rsf_model_input(load_df(ordner=\"04_feature\", name = \"feature_test_corr_labels\").drop(columns=[\"upper_bound\"]), columns_to_drop=[\"duration\", \"event\", \"vehicle_id\", \"class_label\"], frag=1.0, class_column=\"class_label\", sampling=False) \n",
    "x_train, y_train = prepare_rsf_model_input(load_df(ordner=\"04_feature\", name = \"feature_train_corr_labels\").drop(columns=[\"upper_bound\"]), columns_to_drop=[\"duration\", \"event\", \"vehicle_id\", \"class\"], frag=1.0, class_column=\"class\", sampling=False) \n"
   ]
  },
  {
   "cell_type": "code",
   "execution_count": 207,
   "id": "acdc201f",
   "metadata": {},
   "outputs": [
    {
     "name": "stdout",
     "output_type": "stream",
     "text": [
      "{'ibs': 0.021587085889639278, 'tau': 47.0, 'times': [1.0, 1.4646464646464645, 1.9292929292929293, 2.393939393939394, 2.8585858585858586, 3.323232323232323, 3.787878787878788, 4.252525252525253, 4.717171717171717, 5.181818181818182, 5.646464646464646, 6.111111111111111, 6.575757575757576, 7.040404040404041, 7.505050505050505, 7.96969696969697, 8.434343434343434, 8.8989898989899, 9.363636363636363, 9.828282828282829, 10.292929292929292, 10.757575757575758, 11.222222222222221, 11.686868686868687, 12.151515151515152, 12.616161616161616, 13.080808080808081, 13.545454545454545, 14.01010101010101, 14.474747474747474, 14.93939393939394, 15.404040404040403, 15.868686868686869, 16.333333333333336, 16.7979797979798, 17.262626262626263, 17.727272727272727, 18.19191919191919, 18.656565656565657, 19.12121212121212, 19.585858585858585, 20.050505050505052, 20.515151515151516, 20.97979797979798, 21.444444444444443, 21.90909090909091, 22.373737373737374, 22.838383838383837, 23.303030303030305, 23.767676767676768, 24.232323232323232, 24.696969696969695, 25.161616161616163, 25.626262626262626, 26.09090909090909, 26.555555555555554, 27.02020202020202, 27.484848484848484, 27.949494949494948, 28.414141414141415, 28.87878787878788, 29.343434343434343, 29.808080808080806, 30.272727272727273, 30.737373737373737, 31.2020202020202, 31.666666666666668, 32.131313131313135, 32.5959595959596, 33.06060606060606, 33.525252525252526, 33.98989898989899, 34.45454545454545, 34.91919191919192, 35.38383838383838, 35.84848484848485, 36.313131313131315, 36.77777777777778, 37.24242424242424, 37.707070707070706, 38.17171717171717, 38.63636363636363, 39.101010101010104, 39.56565656565657, 40.03030303030303, 40.494949494949495, 40.95959595959596, 41.42424242424242, 41.888888888888886, 42.35353535353536, 42.81818181818182, 43.282828282828284, 43.74747474747475, 44.21212121212121, 44.676767676767675, 45.14141414141414, 45.60606060606061, 46.07070707070707, 46.535353535353536, 47.0], 'brier_scores': [0.004166656696566363, 0.004164348678260406, 0.004161745377112797, 0.006953306223936762, 0.006946299109848437, 0.008147679637193754, 0.00814423834348325, 0.010546918691344179, 0.010526019390948466, 0.011932926936478969, 0.011926862395373732, 0.013739783725198408, 0.013739856101491069, 0.014745727876092359, 0.01473714270268843, 0.01472403482440181, 0.015723959562579406, 0.015710700449321522, 0.01732748846767772, 0.01732733521833195, 0.018936813337485595, 0.018935755471193607, 0.020150593826667767, 0.02015077568786438, 0.02035489568369301, 0.02033905175202209, 0.020537727623915893, 0.02053242906525249, 0.0207157991237782, 0.020716231987731655, 0.020712843030442827, 0.020916316509528316, 0.020913127246386876, 0.02112208733536953, 0.02112197573171734, 0.021527494069556157, 0.02151541959569091, 0.021716899222638617, 0.021704905709082224, 0.022317963950056963, 0.02231675425890046, 0.022729440704483413, 0.022728958262268836, 0.02272289698723455, 0.02270942960658199, 0.022703887724684343, 0.022704404837269872, 0.022703224199090957, 0.02310063328911084, 0.023098913795111923, 0.023307467677074794, 0.023299205137977955, 0.023485063163982495, 0.023481654519241373, 0.024108707541672294, 0.02410745575134909, 0.024109657083248557, 0.024107351739116205, 0.024104255055853098, 0.024516467874747132, 0.024512318630241545, 0.02472468642838816, 0.024725037872817948, 0.025140085213919684, 0.025134463965589028, 0.0255713356666476, 0.02557064212800655, 0.025571906627514907, 0.02557704417864581, 0.025575164068247617, 0.025582419549719213, 0.025584221955142494, 0.025580629754667544, 0.025589990480610014, 0.025588011374577235, 0.0256009830244474, 0.025815160001827476, 0.025824709199490748, 0.025834231048683452, 0.02583831902706713, 0.02583992860304284, 0.025862386240117285, 0.02586489471647936, 0.02587151710471393, 0.025883104274802546, 0.02588546986444273, 0.02589082299949477, 0.026122438286346635, 0.026130676036967723, 0.02658426205820664, 0.026588292745557813, 0.027040902234305116, 0.027058874930341866, 0.027717859680065224, 0.027732266701117118, 0.028171840272237837, 0.02820097922169738, 0.028436999575251018, 0.028444646088212355, 0.028914688031031355], 'path': '../data/07_model_output/RSF/brier_score.json'}\n"
     ]
    }
   ],
   "source": [
    "results_brier = rsf_brier_score_on_test(\n",
    "    rsf=rsf_model,\n",
    "    X_test=x_test,\n",
    "    y_train_surv=y_train,   # für Zensierungsgewichte\n",
    "    y_test_surv=y_test,     # Testdaten\n",
    "    model_subdir=\"RSF\"\n",
    ")\n",
    "print(results_brier)"
   ]
  },
  {
   "cell_type": "markdown",
   "id": "0d24ec44",
   "metadata": {},
   "source": [
    "#### Für das RSF Test Model "
   ]
  },
  {
   "cell_type": "code",
   "execution_count": 210,
   "id": "440ea12f",
   "metadata": {},
   "outputs": [],
   "source": [
    "rsf_model = load_model(\"RSF_final_model_test\")"
   ]
  },
  {
   "cell_type": "code",
   "execution_count": 211,
   "id": "781ffac4",
   "metadata": {},
   "outputs": [
    {
     "name": "stdout",
     "output_type": "stream",
     "text": [
      "{'ibs': 0.021587085889639278, 'tau': 47.0, 'times': [1.0, 1.4646464646464645, 1.9292929292929293, 2.393939393939394, 2.8585858585858586, 3.323232323232323, 3.787878787878788, 4.252525252525253, 4.717171717171717, 5.181818181818182, 5.646464646464646, 6.111111111111111, 6.575757575757576, 7.040404040404041, 7.505050505050505, 7.96969696969697, 8.434343434343434, 8.8989898989899, 9.363636363636363, 9.828282828282829, 10.292929292929292, 10.757575757575758, 11.222222222222221, 11.686868686868687, 12.151515151515152, 12.616161616161616, 13.080808080808081, 13.545454545454545, 14.01010101010101, 14.474747474747474, 14.93939393939394, 15.404040404040403, 15.868686868686869, 16.333333333333336, 16.7979797979798, 17.262626262626263, 17.727272727272727, 18.19191919191919, 18.656565656565657, 19.12121212121212, 19.585858585858585, 20.050505050505052, 20.515151515151516, 20.97979797979798, 21.444444444444443, 21.90909090909091, 22.373737373737374, 22.838383838383837, 23.303030303030305, 23.767676767676768, 24.232323232323232, 24.696969696969695, 25.161616161616163, 25.626262626262626, 26.09090909090909, 26.555555555555554, 27.02020202020202, 27.484848484848484, 27.949494949494948, 28.414141414141415, 28.87878787878788, 29.343434343434343, 29.808080808080806, 30.272727272727273, 30.737373737373737, 31.2020202020202, 31.666666666666668, 32.131313131313135, 32.5959595959596, 33.06060606060606, 33.525252525252526, 33.98989898989899, 34.45454545454545, 34.91919191919192, 35.38383838383838, 35.84848484848485, 36.313131313131315, 36.77777777777778, 37.24242424242424, 37.707070707070706, 38.17171717171717, 38.63636363636363, 39.101010101010104, 39.56565656565657, 40.03030303030303, 40.494949494949495, 40.95959595959596, 41.42424242424242, 41.888888888888886, 42.35353535353536, 42.81818181818182, 43.282828282828284, 43.74747474747475, 44.21212121212121, 44.676767676767675, 45.14141414141414, 45.60606060606061, 46.07070707070707, 46.535353535353536, 47.0], 'brier_scores': [0.004166656696566363, 0.004164348678260406, 0.004161745377112797, 0.006953306223936762, 0.006946299109848437, 0.008147679637193754, 0.00814423834348325, 0.010546918691344179, 0.010526019390948466, 0.011932926936478966, 0.011926862395373732, 0.013739783725198408, 0.013739856101491069, 0.014745727876092359, 0.01473714270268843, 0.01472403482440181, 0.015723959562579406, 0.015710700449321522, 0.01732748846767772, 0.01732733521833195, 0.0189368133374856, 0.018935755471193607, 0.020150593826667767, 0.02015077568786438, 0.02035489568369301, 0.020339051752022094, 0.020537727623915897, 0.02053242906525249, 0.0207157991237782, 0.020716231987731655, 0.020712843030442827, 0.020916316509528316, 0.020913127246386876, 0.02112208733536953, 0.02112197573171734, 0.021527494069556157, 0.02151541959569091, 0.021716899222638617, 0.021704905709082224, 0.022317963950056967, 0.022316754258900465, 0.022729440704483413, 0.022728958262268836, 0.02272289698723455, 0.02270942960658199, 0.022703887724684343, 0.022704404837269872, 0.022703224199090957, 0.02310063328911084, 0.023098913795111923, 0.023307467677074797, 0.023299205137977952, 0.023485063163982495, 0.023481654519241373, 0.024108707541672294, 0.024107455751349094, 0.024109657083248557, 0.024107351739116205, 0.0241042550558531, 0.024516467874747132, 0.024512318630241548, 0.02472468642838816, 0.024725037872817948, 0.025140085213919684, 0.02513446396558903, 0.0255713356666476, 0.02557064212800655, 0.025571906627514907, 0.02557704417864581, 0.025575164068247617, 0.025582419549719213, 0.025584221955142494, 0.025580629754667544, 0.025589990480610017, 0.02558801137457724, 0.0256009830244474, 0.025815160001827476, 0.025824709199490748, 0.025834231048683452, 0.02583831902706713, 0.02583992860304284, 0.025862386240117285, 0.02586489471647936, 0.02587151710471392, 0.025883104274802546, 0.02588546986444273, 0.02589082299949477, 0.026122438286346635, 0.026130676036967723, 0.02658426205820664, 0.02658829274555782, 0.027040902234305116, 0.027058874930341866, 0.027717859680065224, 0.027732266701117118, 0.028171840272237837, 0.02820097922169738, 0.028436999575251018, 0.02844464608821236, 0.028914688031031362], 'path': '../data/07_model_output/RSF_test/brier_score.json'}\n"
     ]
    }
   ],
   "source": [
    "results_brier = rsf_brier_score_on_test(\n",
    "    rsf=rsf_model,\n",
    "    X_test=x_test,\n",
    "    y_train_surv=y_train,   # für Zensierungsgewichte\n",
    "    y_test_surv=y_test,     # Testdaten\n",
    "    model_subdir=\"RSF_test\"\n",
    ")\n",
    "print(results_brier)"
   ]
  },
  {
   "cell_type": "markdown",
   "id": "4e48a042",
   "metadata": {},
   "source": [
    "#### 1.2 Kostenanalyse"
   ]
  },
  {
   "cell_type": "code",
   "execution_count": 181,
   "id": "00f347b4",
   "metadata": {},
   "outputs": [],
   "source": [
    "def ensure_dir(path: str) -> None:\n",
    "    \"\"\"Erzeugt das Zielverzeichnis, falls es nicht existiert.\"\"\"\n",
    "    os.makedirs(path, exist_ok=True)"
   ]
  },
  {
   "cell_type": "code",
   "execution_count": 182,
   "id": "4748c08e",
   "metadata": {},
   "outputs": [],
   "source": [
    "def class_probs_from_S_tau(S_tau_row: np.ndarray) -> np.ndarray:\n",
    "    \"\"\"\n",
    "    Berechnet Klassenwahrscheinlichkeiten p0..p4 aus S(tau1..tau4) für eine Instanz.\n",
    "\n",
    "    Args:\n",
    "        S_tau_row (np.ndarray):\n",
    "            Array der Länge 4 mit S(tau1), S(tau2), S(tau3), S(tau4).\n",
    "\n",
    "    Returns:\n",
    "        np.ndarray:\n",
    "            Vektor der Länge 5 mit Wahrscheinlichkeiten [p0, p1, p2, p3, p4], Summe = 1.\n",
    "    \"\"\"\n",
    "    S1, S2, S3, S4 = S_tau_row.tolist()\n",
    "    p4 = 1.0 - S1\n",
    "    p3 = S1 - S2\n",
    "    p2 = S2 - S3\n",
    "    p1 = S3 - S4\n",
    "    p0 = S4\n",
    "    p = np.array([p0, p1, p2, p3, p4], dtype=float)\n",
    "    p = np.clip(p, 0.0, 1.0)\n",
    "    s = p.sum()\n",
    "    return p / s if s > 0 else np.array([1.0, 0.0, 0.0, 0.0, 0.0], dtype=float)"
   ]
  },
  {
   "cell_type": "code",
   "execution_count": 183,
   "id": "5b1380ed",
   "metadata": {},
   "outputs": [],
   "source": [
    "def decide_with_cost_from_rsf_at_taus(\n",
    "    rsf,\n",
    "    X: pd.DataFrame,\n",
    "    taus: np.ndarray,\n",
    "    cost: np.ndarray\n",
    ") -> Tuple[np.ndarray, np.ndarray, np.ndarray]:\n",
    "    \"\"\"\n",
    "    Ermittelt je Instanz die kostenminimale Klasse m_hat und die zugehörigen Größen.\n",
    "\n",
    "    Args:\n",
    "        rsf:\n",
    "            Trainiertes RandomSurvivalForest‐Modell mit\n",
    "            predict_survival_function(X, return_array=False).\n",
    "        X (pd.DataFrame):\n",
    "            Merkmalstabelle mit N Zeilen. Die Spaltenreihenfolge muss zu rsf passen.\n",
    "        taus (np.ndarray):\n",
    "            Klassengrenzen als Array der Länge 4 in aufsteigender Reihenfolge.\n",
    "        cost (np.ndarray):\n",
    "            Kostenmatrix C der Form (5, 5). Zeilen sind true Klassen, Spalten predicted Klassen.\n",
    "\n",
    "    Returns:\n",
    "        Tuple[np.ndarray, np.ndarray, np.ndarray]:\n",
    "            pred_class: Länge N mit vorhergesagter Klasse {0..4}.\n",
    "            exp_cost_min: Länge N mit minimaler erwarteter Kosten pro Instanz.\n",
    "            probs: Matrix (N, 5) mit Wahrscheinlichkeiten p0..p4.\n",
    "    \"\"\"\n",
    "    surv_fns = rsf.predict_survival_function(X, return_array=False)\n",
    "    N = len(X)\n",
    "\n",
    "    # S(tau) pro Instanz robust auswerten: einzelne Zeitpunkte können Skalar liefern\n",
    "    taus = np.asarray(taus, dtype=float)\n",
    "    S_tau = np.zeros((N, len(taus)), dtype=float)\n",
    "    for i, fn in enumerate(surv_fns):\n",
    "        vals = fn(taus)\n",
    "        if np.ndim(vals) == 0:\n",
    "            # Falls Modell einen Skalar zurückgibt, replizieren wir für Sicherheit\n",
    "            S_tau[i, :] = float(vals)\n",
    "        else:\n",
    "            S_tau[i, :] = np.asarray(vals, dtype=float)\n",
    "\n",
    "    # Klassenwahrscheinlichkeiten für jede Zeile\n",
    "    probs = np.vstack([class_probs_from_S_tau(S_tau[i, :]) for i in range(N)])  # (N,5)\n",
    "\n",
    "    # Erwartete Kosten je vorhergesagter Klasse m: E[C|x, m] = p @ C[:, m]\n",
    "    # Wir können das vektorisieren: exp_cost_matrix hat Form (N, 5)\n",
    "    exp_cost_matrix = probs @ cost\n",
    "    pred_class = exp_cost_matrix.argmin(axis=1).astype(int)\n",
    "    exp_cost_min = exp_cost_matrix[np.arange(N), pred_class].astype(float)\n",
    "    return pred_class, exp_cost_min, probs"
   ]
  },
  {
   "cell_type": "markdown",
   "id": "5e7c77bc",
   "metadata": {},
   "source": [
    "#### decider function"
   ]
  },
  {
   "cell_type": "code",
   "execution_count": null,
   "id": "cd20aa6d",
   "metadata": {},
   "outputs": [],
   "source": [
    "\n",
    "def evaluate_decision_costs_from_true(\n",
    "    true_class: pd.Series | np.ndarray,\n",
    "    pred_class: np.ndarray,\n",
    "    cost: np.ndarray\n",
    ") -> Tuple[float, float, np.ndarray]:\n",
    "    \"\"\"\n",
    "    Berechnet durchschnittliche und totale realisierte Kosten sowie die Konfusionsmatrix.\n",
    "\n",
    "    Args:\n",
    "        true_class (pd.Series | np.ndarray):\n",
    "            Vektor der Länge N mit wahren Klassen {0..4}.\n",
    "        pred_class (np.ndarray):\n",
    "            Vektor der Länge N mit vorhergesagten Klassen {0..4}.\n",
    "        cost (np.ndarray):\n",
    "            Kostenmatrix C der Form (5, 5). Zeilen true, Spalten predicted.\n",
    "\n",
    "    Returns:\n",
    "        Tuple[float, float, np.ndarray]:\n",
    "            avg_cost: Durchschnittliche realisierte Kosten über N Instanzen.\n",
    "            total_cost: Summe der realisierten Kosten.\n",
    "            cm: Konfusionsmatrix mit Form (5, 5) in der Reihenfolge Klassen 0..4.\n",
    "            accuracy: Anteil korrekter Vorhersagen.\n",
    "    \"\"\"\n",
    "    n = np.asarray(true_class, dtype=int)\n",
    "    m = np.asarray(pred_class, dtype=int)\n",
    "    if n.shape != m.shape:\n",
    "        raise ValueError(\"true_class und pred_class müssen gleich lang sein.\")\n",
    "\n",
    "    cm = confusion_matrix(n, m, labels=[0, 1, 2, 3, 4])\n",
    "    # Realisierte Kosten aus cm und C: Sum_{n,m} cm[n,m] * C[n,m]\n",
    "    realized_total = float(np.sum(cm * cost))\n",
    "    avg_cost = realized_total / float(len(n))\n",
    "    accuracy = float(np.mean(n == m))\n",
    "    return avg_cost, realized_total, cm, accuracy"
   ]
  },
  {
   "cell_type": "code",
   "execution_count": 83,
   "id": "5e4fcdde",
   "metadata": {},
   "outputs": [],
   "source": [
    "def evaluate_and_save_cost_decision_rsf(\n",
    "    rsf,\n",
    "    X_eval: pd.DataFrame,\n",
    "    true_class: pd.Series | np.ndarray,\n",
    "    taus: np.ndarray,\n",
    "    cost: np.ndarray,\n",
    "    output_dir: str = \"../data/07_model_output/RSF\",\n",
    "    save_probs: bool = False,\n",
    "    survix: str = \"cost\"\n",
    ") -> dict:\n",
    "    \"\"\"\n",
    "    Führt die kostenbasierte Entscheidung durch, berechnet realisierte Kosten und speichert Artefakte.\n",
    "\n",
    "    Args:\n",
    "        rsf:\n",
    "            Trainiertes RandomSurvivalForest‐Modell.\n",
    "        X_eval (pd.DataFrame):\n",
    "            Evaluationsfeatures. Spaltenreihenfolge wird an rsf.feature_names_in_ angepasst, falls vorhanden.\n",
    "        true_class (pd.Series | np.ndarray):\n",
    "            Wahre Klassenlabels {0..4} in der Reihenfolge der Zeilen von X_eval.\n",
    "        taus (np.ndarray):\n",
    "            Klassengrenzen [tau1, tau2, tau3, tau4].\n",
    "        cost (np.ndarray):\n",
    "            Kostenmatrix C (5x5).\n",
    "        output_dir (str):\n",
    "            Zielordner für Outputs.\n",
    "        save_probs (bool):\n",
    "            Ob die Klassenwahrscheinlichkeiten pro Instanz gespeichert werden sollen.\n",
    "        survix (str):\n",
    "            Suffix für die gespeicherten Dateien, z.B. \"cost\"\n",
    "\n",
    "    Returns:\n",
    "        dict:\n",
    "            Pfade zu gespeicherten Dateien und Kennzahlen.\n",
    "    \"\"\"\n",
    "    ensure_dir(output_dir)\n",
    "\n",
    "    # Spaltenausrichtung, falls das Modell diese Information besitzt\n",
    "    if hasattr(rsf, \"feature_names_in_\"):\n",
    "        X_eval = X_eval.loc[:, rsf.feature_names_in_]\n",
    "\n",
    "    pred_class, exp_cost_min, probs = decide_with_cost_from_rsf_at_taus(rsf, X_eval, taus, cost)\n",
    "    avg_cost, total_cost, cm, accuracy = evaluate_decision_costs_from_true(true_class, pred_class, cost)\n",
    "\n",
    "    # Speichern\n",
    "    metrics = {\n",
    "        \"avg_realised_cost\": float(avg_cost),\n",
    "        \"total_realised_cost\": float(total_cost),\n",
    "        \"accuracy\": float(accuracy),\n",
    "        \"n_instances\": int(len(pred_class)),\n",
    "        \"taus\": list(map(float, taus)),\n",
    "    }\n",
    "    with open(os.path.join(output_dir, f\"metrics_{survix}.json\"), \"w\", encoding=\"utf-8\") as f:\n",
    "        json.dump(metrics, f, indent=2)\n",
    "\n",
    "    pd.DataFrame(cm, index=[0, 1, 2, 3, 4], columns=[0, 1, 2, 3, 4]).to_csv(\n",
    "        os.path.join(output_dir, f\"confusion_matrix_{survix}.csv\"), index=True\n",
    "    )\n",
    "\n",
    "    if save_probs:\n",
    "        pd.DataFrame(probs, columns=[f\"p{c}\" for c in range(5)]).to_csv(\n",
    "            os.path.join(output_dir, f\"class_probs_{survix}.csv\"), index=False\n",
    "        )\n",
    "\n",
    "    # Rückgabe\n",
    "    return {\n",
    "        \"metrics_cost_path\": os.path.join(output_dir, f\"metrics_{survix}.json\"),\n",
    "        \"confusion_matrix_path\": os.path.join(output_dir, f\"confusion_matrix_{survix}.csv\"),\n",
    "        \"class_probs_path\": os.path.join(output_dir, f\"class_probs_{survix}.csv\") if save_probs else None,\n",
    "        \"avg_realised_cost\": float(avg_cost),\n",
    "        \"total_realised_cost\": float(total_cost),\n",
    "        \"accuracy\": float(accuracy),\n",
    "    }"
   ]
  },
  {
   "cell_type": "markdown",
   "id": "3bca0e32",
   "metadata": {},
   "source": [
    "#### Evaulation function"
   ]
  },
  {
   "cell_type": "code",
   "execution_count": 54,
   "id": "7b8bcabd",
   "metadata": {},
   "outputs": [],
   "source": [
    "def run_rsf_cost_evaluation_cost(\n",
    "    rsf_model,\n",
    "    X_eval,\n",
    "    true_class,\n",
    "    taus,\n",
    "    cost,\n",
    "    output_dir=\"../data/07_model_output/RSF\",\n",
    "    save_probs=True,\n",
    "    survix=\"cost\"\n",
    "):\n",
    "    \"\"\"\n",
    "    Führt die kostenbasierte Evaluation für ein Random Survival Forest Modell durch und gibt die Ergebnisse aus.\n",
    "\n",
    "    Args:\n",
    "        rsf_model: Das trainierte Random Survival Forest Modell.\n",
    "        X_eval (pd.DataFrame): Feature-Matrix für die Evaluation (z.B. x_test oder x_val).\n",
    "        true_class (pd.Series oder np.ndarray): Wahre Klassenlabels für die Evaluationsdaten.\n",
    "        taus (np.ndarray): Array mit Klassengrenzen (z.B. [tau1, tau2, tau3, tau4]).\n",
    "        cost (np.ndarray): Kostenmatrix der Form (5, 5).\n",
    "        output_dir (str, optional): Zielverzeichnis für Output-Dateien. Standard: \"../data/07_model_output/RSF\".\n",
    "        save_probs (bool, optional): Ob die Klassenwahrscheinlichkeiten gespeichert werden sollen. Standard: True.\n",
    "        survix (str, optional): Suffix für Output-Dateien. Standard: \"cost\".\n",
    "\n",
    "    Returns:\n",
    "        dict: Dictionary mit Pfaden zu gespeicherten Dateien und Kennzahlen.\n",
    "    \"\"\"\n",
    "    results_cost = evaluate_and_save_cost_decision_rsf(\n",
    "        rsf=rsf_model,\n",
    "        X_eval=X_eval,\n",
    "        true_class=true_class,\n",
    "        taus=taus,\n",
    "        cost=cost,\n",
    "        output_dir=output_dir,\n",
    "        save_probs=save_probs,\n",
    "        survix=survix\n",
    "    )\n",
    "    \n",
    "    return results_cost"
   ]
  },
  {
   "cell_type": "markdown",
   "id": "998f96fc",
   "metadata": {},
   "source": [
    "#### Anwendung"
   ]
  },
  {
   "cell_type": "code",
   "execution_count": 81,
   "id": "69940f18",
   "metadata": {},
   "outputs": [],
   "source": [
    "rsf_model = load_model(\"RSF_final_model\")"
   ]
  },
  {
   "cell_type": "code",
   "execution_count": 84,
   "id": "ab229a07",
   "metadata": {},
   "outputs": [
    {
     "name": "stderr",
     "output_type": "stream",
     "text": [
      "[Parallel(n_jobs=18)]: Using backend ThreadingBackend with 18 concurrent workers.\n",
      "[Parallel(n_jobs=18)]: Done   5 tasks      | elapsed:    1.4s\n"
     ]
    },
    {
     "name": "stdout",
     "output_type": "stream",
     "text": [
      "{'metrics_cost_path': '../data/07_model_output/RSF/metrics_cost.json', 'confusion_matrix_path': '../data/07_model_output/RSF/confusion_matrix_cost.csv', 'class_probs_path': '../data/07_model_output/RSF/class_probs_cost.csv', 'avg_realised_cost': 8.983541542732501, 'total_realised_cost': 45304.0, 'accuracy': 0.5770374776918501}\n"
     ]
    },
    {
     "name": "stderr",
     "output_type": "stream",
     "text": [
      "[Parallel(n_jobs=18)]: Done 128 out of 128 | elapsed:    7.3s finished\n"
     ]
    }
   ],
   "source": [
    "results_cost = run_rsf_cost_evaluation_cost(\n",
    "    rsf_model=rsf_model,\n",
    "    X_eval=x_test,                         \n",
    "    true_class=test_data[\"class_label\"], \n",
    "    taus=TAUS,\n",
    "    cost=COST,\n",
    "    output_dir=\"../data/07_model_output/RSF\",\n",
    "    save_probs=True,\n",
    "    survix = \"cost\"\n",
    ")\n",
    "print(results_cost)"
   ]
  },
  {
   "cell_type": "markdown",
   "id": "a2b6b4fa",
   "metadata": {},
   "source": [
    "#### Mit Test RSF Modell"
   ]
  },
  {
   "cell_type": "code",
   "execution_count": 85,
   "id": "08d8298c",
   "metadata": {},
   "outputs": [],
   "source": [
    "rsf_model = load_model(\"RSF_final_model_test\")"
   ]
  },
  {
   "cell_type": "code",
   "execution_count": 86,
   "id": "86825f71",
   "metadata": {},
   "outputs": [
    {
     "name": "stdout",
     "output_type": "stream",
     "text": [
      "{'metrics_cost_path': '../data/07_model_output/RSF_test/metrics_cost.json', 'confusion_matrix_path': '../data/07_model_output/RSF_test/confusion_matrix_cost.csv', 'class_probs_path': '../data/07_model_output/RSF_test/class_probs_cost.csv', 'avg_realised_cost': 8.513781479278208, 'total_realised_cost': 42935.0, 'accuracy': 0.5038667459845331}\n"
     ]
    }
   ],
   "source": [
    "results_cost = run_rsf_cost_evaluation_cost(\n",
    "    rsf_model=rsf_model,\n",
    "    X_eval=x_test,                         \n",
    "    true_class=test_data[\"class_label\"], \n",
    "    taus=TAUS,\n",
    "    cost=COST,\n",
    "    output_dir=\"../data/07_model_output/RSF_test\",\n",
    "    save_probs=True,\n",
    "    survix = \"cost\"\n",
    ")\n",
    "print(results_cost)"
   ]
  },
  {
   "cell_type": "markdown",
   "id": "1834dfac",
   "metadata": {},
   "source": [
    "#### Entscheidung nach Argmax"
   ]
  },
  {
   "cell_type": "code",
   "execution_count": null,
   "id": "0d384708",
   "metadata": {},
   "outputs": [],
   "source": [
    "def decide_with_argmax_from_rsf_at_taus(\n",
    "    rsf,\n",
    "    X: pd.DataFrame,\n",
    "    taus: np.ndarray\n",
    ") -> Tuple[np.ndarray, np.ndarray, np.ndarray]:\n",
    "    \"\"\"\n",
    "    Ermittelt je Instanz die Klasse mit maximaler Wahrscheinlichkeit (argmax).\n",
    "\n",
    "    Args:\n",
    "        rsf: trainiertes RandomSurvivalForest Modell.\n",
    "        X (pd.DataFrame): Eingabedaten (N, n_features).\n",
    "        taus (np.ndarray): Klassengrenzen [tau1..tau4].\n",
    "\n",
    "    Returns:\n",
    "        Tuple[np.ndarray, np.ndarray, np.ndarray]:\n",
    "            pred_class: Länge N, argmax(p0..p4).\n",
    "            max_probs: Länge N, zugehörige max. Wahrscheinlichkeit.\n",
    "            probs: Matrix (N,5) mit Wahrscheinlichkeiten p0..p4.\n",
    "    \"\"\"\n",
    "    surv_fns = rsf.predict_survival_function(X, return_array=False)\n",
    "    N = len(X)\n",
    "\n",
    "    taus = np.asarray(taus, dtype=float)\n",
    "    S_tau = np.zeros((N, len(taus)), dtype=float)\n",
    "    for i, fn in enumerate(surv_fns):\n",
    "        vals = fn(taus)\n",
    "        if np.ndim(vals) == 0:\n",
    "            S_tau[i, :] = float(vals)\n",
    "        else:\n",
    "            S_tau[i, :] = np.asarray(vals, dtype=float)\n",
    "\n",
    "    probs = np.vstack([class_probs_from_S_tau(S_tau[i, :]) for i in range(N)])  # (N,5)\n",
    "    pred_class = probs.argmax(axis=1).astype(int)\n",
    "    max_probs = probs[np.arange(N), pred_class]\n",
    "    return pred_class, max_probs, probs"
   ]
  },
  {
   "cell_type": "markdown",
   "id": "cd3687c8",
   "metadata": {},
   "source": [
    "#### decider function"
   ]
  },
  {
   "cell_type": "code",
   "execution_count": 71,
   "id": "f643c187",
   "metadata": {},
   "outputs": [],
   "source": [
    "def evaluate_and_save_argmax_decision_rsf(\n",
    "    rsf,\n",
    "    X_eval: pd.DataFrame,\n",
    "    true_class: pd.Series | np.ndarray,\n",
    "    taus: np.ndarray,\n",
    "    cost: np.ndarray,\n",
    "    output_dir: str = \"../data/07_model_output/RSF\",\n",
    "    save_probs: bool = False,\n",
    "    survix: str = \"argmax\"\n",
    ") -> dict:\n",
    "    \"\"\"\n",
    "    Führt die argmax-Entscheidung durch (Klasse mit höchster Wahrscheinlichkeit),\n",
    "    berechnet realisierte Kosten & Konfusionsmatrix und speichert Artefakte.\n",
    "\n",
    "    Args:\n",
    "        rsf: trainiertes RandomSurvivalForest Modell.\n",
    "        X_eval: Features zur Evaluation.\n",
    "        true_class: wahre Klassen {0..4}.\n",
    "        taus: Klassengrenzen [tau1..tau4].\n",
    "        cost: Kostenmatrix (5x5), dient nur zur Kostenbewertung.\n",
    "        output_dir: Zielordner für Artefakte.\n",
    "        save_probs: Ob Wahrscheinlichkeiten abgespeichert werden sollen.\n",
    "        survix: Suffix für Dateinamen (z. B. \"argmax\").\n",
    "\n",
    "    Returns:\n",
    "        dict mit Pfaden und Kennzahlen.\n",
    "    \"\"\"\n",
    "    ensure_dir(output_dir)\n",
    "\n",
    "    if hasattr(rsf, \"feature_names_in_\"):\n",
    "        X_eval = X_eval.loc[:, rsf.feature_names_in_]\n",
    "\n",
    "    pred_class, max_probs, probs = decide_with_argmax_from_rsf_at_taus(rsf, X_eval, taus)\n",
    "    avg_cost, total_cost, cm, accuracy = evaluate_decision_costs_from_true(true_class, pred_class, cost)\n",
    "\n",
    "    # Dateipfade mit Suffix\n",
    "    metrics_path = os.path.join(output_dir, f\"metrics_{survix}.json\")\n",
    "    cm_path = os.path.join(output_dir, f\"confusion_matrix_{survix}.csv\")\n",
    "    probs_path = os.path.join(output_dir, f\"class_probs_{survix}.csv\")\n",
    "\n",
    "    metrics = {\n",
    "        \"avg_realised_cost\": float(avg_cost),\n",
    "        \"total_realised_cost\": float(total_cost),\n",
    "        \"accuracy\": float(accuracy),\n",
    "        \"n_instances\": int(len(pred_class)),\n",
    "        \"taus\": list(map(float, taus)),\n",
    "    }\n",
    "    with open(metrics_path, \"w\", encoding=\"utf-8\") as f:\n",
    "        json.dump(metrics, f, indent=2)\n",
    "\n",
    "    pd.DataFrame(cm, index=[0, 1, 2, 3, 4], columns=[0, 1, 2, 3, 4]).to_csv(cm_path, index=True)\n",
    "\n",
    "    if save_probs:\n",
    "        pd.DataFrame(probs, columns=[f\"p{c}\" for c in range(5)]).to_csv(probs_path, index=False)\n",
    "\n",
    "    return {\n",
    "        \"metrics_path\": metrics_path,\n",
    "        \"confusion_matrix_path\": cm_path,\n",
    "        \"class_probs_path\": probs_path if save_probs else None,\n",
    "        \"avg_realised_cost\": float(avg_cost),\n",
    "        \"total_realised_cost\": float(total_cost),\n",
    "        \"accuracy\": float(accuracy),\n",
    "    }\n"
   ]
  },
  {
   "cell_type": "markdown",
   "id": "028aaead",
   "metadata": {},
   "source": [
    "#### Evaulation function"
   ]
  },
  {
   "cell_type": "code",
   "execution_count": 72,
   "id": "b6bd3b7d",
   "metadata": {},
   "outputs": [],
   "source": [
    "def run_rsf_cost_evaluation_argmax(\n",
    "    rsf_model,\n",
    "    X_eval,\n",
    "    true_class,\n",
    "    taus,\n",
    "    cost,\n",
    "    output_dir=\"../data/07_model_output/RSF\",\n",
    "    save_probs=True,\n",
    "    survix: str = \"argmax\"\n",
    "):\n",
    "    \"\"\"\n",
    "    Führt die ARGMAX Evaluation für ein Random Survival Forest Modell durch und gibt die Ergebnisse aus.\n",
    "\n",
    "    Args:\n",
    "        rsf_model: Das trainierte Random Survival Forest Modell.\n",
    "        X_eval (pd.DataFrame): Feature-Matrix für die Evaluation (z.B. x_test oder x_val).\n",
    "        true_class (pd.Series oder np.ndarray): Wahre Klassenlabels für die Evaluationsdaten.\n",
    "        taus (np.ndarray): Array mit Klassengrenzen (z.B. [tau1, tau2, tau3, tau4]).\n",
    "        cost (np.ndarray): Kostenmatrix der Form (5, 5).\n",
    "        output_dir (str, optional): Zielverzeichnis für Output-Dateien. Standard: \"../data/07_model_output/RSF\".\n",
    "        save_probs (bool, optional): Ob die Klassenwahrscheinlichkeiten gespeichert werden sollen. Standard: True.\n",
    "        survix (str, optional): Suffix für Output-Dateien. Standard: \"argmax\".\n",
    "\n",
    "    Returns:\n",
    "        dict: Dictionary mit Pfaden zu gespeicherten Dateien und Kennzahlen.\n",
    "    \"\"\"\n",
    "    results_cost = evaluate_and_save_argmax_decision_rsf(\n",
    "        rsf=rsf_model,\n",
    "        X_eval=X_eval,\n",
    "        true_class=true_class,\n",
    "        taus=taus,\n",
    "        cost=cost,\n",
    "        output_dir=output_dir,\n",
    "        save_probs=save_probs,\n",
    "        survix=survix\n",
    "    )\n",
    "    \n",
    "    return results_cost"
   ]
  },
  {
   "cell_type": "markdown",
   "id": "a45c3844",
   "metadata": {},
   "source": [
    "#### Anwendung"
   ]
  },
  {
   "cell_type": "code",
   "execution_count": 87,
   "id": "d3866f09",
   "metadata": {},
   "outputs": [],
   "source": [
    "rsf_model = load_model(\"RSF_final_model\")"
   ]
  },
  {
   "cell_type": "code",
   "execution_count": 88,
   "id": "3c650cb3",
   "metadata": {},
   "outputs": [
    {
     "name": "stderr",
     "output_type": "stream",
     "text": [
      "[Parallel(n_jobs=18)]: Using backend ThreadingBackend with 18 concurrent workers.\n",
      "[Parallel(n_jobs=18)]: Done   5 tasks      | elapsed:    1.5s\n",
      "[Parallel(n_jobs=18)]: Done 128 out of 128 | elapsed:    8.0s finished\n"
     ]
    },
    {
     "name": "stdout",
     "output_type": "stream",
     "text": [
      "{'metrics_path': '../data/07_model_output/RSF/metrics_argmax.json', 'confusion_matrix_path': '../data/07_model_output/RSF/confusion_matrix_argmax.csv', 'class_probs_path': '../data/07_model_output/RSF/class_probs_argmax.csv', 'avg_realised_cost': 11.124330755502678, 'total_realised_cost': 56100.0, 'accuracy': 0.9718421574459647}\n"
     ]
    }
   ],
   "source": [
    "results_cost = run_rsf_cost_evaluation_argmax(\n",
    "    rsf_model=rsf_model,\n",
    "    X_eval=x_test,                         \n",
    "    true_class=test_data[\"class_label\"], \n",
    "    taus=TAUS,\n",
    "    cost=COST,\n",
    "    output_dir=\"../data/07_model_output/RSF\",\n",
    "    save_probs=True,\n",
    "    survix = \"argmax\"\n",
    ")\n",
    "print(results_cost)"
   ]
  },
  {
   "cell_type": "markdown",
   "id": "579e1e6e",
   "metadata": {},
   "source": [
    "#### Mit Test RSF Modell"
   ]
  },
  {
   "cell_type": "code",
   "execution_count": 89,
   "id": "ea30a64d",
   "metadata": {},
   "outputs": [],
   "source": [
    "rsf_model = load_model(\"RSF_final_model_test\")"
   ]
  },
  {
   "cell_type": "code",
   "execution_count": 90,
   "id": "3a328e30",
   "metadata": {},
   "outputs": [
    {
     "name": "stdout",
     "output_type": "stream",
     "text": [
      "{'metrics_path': '../data/07_model_output/RSF_test/metrics_argmax.json', 'confusion_matrix_path': '../data/07_model_output/RSF_test/confusion_matrix_argmax.csv', 'class_probs_path': '../data/07_model_output/RSF_test/class_probs_argmax.csv', 'avg_realised_cost': 11.124330755502678, 'total_realised_cost': 56100.0, 'accuracy': 0.9718421574459647}\n"
     ]
    }
   ],
   "source": [
    "results_cost = run_rsf_cost_evaluation_argmax(\n",
    "    rsf_model=rsf_model,\n",
    "    X_eval=x_test,                         \n",
    "    true_class=test_data[\"class_label\"], \n",
    "    taus=TAUS,\n",
    "    cost=COST,\n",
    "    output_dir=\"../data/07_model_output/RSF_test\",\n",
    "    save_probs=True,\n",
    "    survix = \"argmax\"\n",
    ")\n",
    "print(results_cost)"
   ]
  },
  {
   "cell_type": "markdown",
   "id": "0263d83b",
   "metadata": {},
   "source": [
    "#### Confusion-Matrix"
   ]
  },
  {
   "cell_type": "code",
   "execution_count": 77,
   "id": "98f2746f",
   "metadata": {},
   "outputs": [],
   "source": [
    "def plot_confusion_matrix_from_csv(\n",
    "    csv_path: str,\n",
    "    output_path: str = None,\n",
    "    cmap: str = \"Blues\",\n",
    "    title_survix: str = \"RSF\"\n",
    ") -> None:\n",
    "    \"\"\"\n",
    "    Liest eine Konfusionsmatrix aus CSV und erstellt eine Heatmap.\n",
    "\n",
    "    Args:\n",
    "        csv_path (str): Pfad zur CSV-Datei, wie von evaluate_and_save_cost_decision_rsf geschrieben.\n",
    "        output_path (str, optional): Wenn angegeben, wird die Grafik als PNG gespeichert.\n",
    "        cmap (str): Farbskala für die Heatmap.\n",
    "        title_survix (str): Modellbezeichnung für den Titel der Grafik.\n",
    "\n",
    "    Returns:\n",
    "        None. Zeigt die Grafik an und speichert sie ggf. ab.\n",
    "    \"\"\"\n",
    "    # Einlesen: CSV hat Index-Spalte (True Class) und Spalten (Predicted Class)\n",
    "    cm = pd.read_csv(csv_path, index_col=0)\n",
    "\n",
    "    plt.figure(figsize=(6, 5))\n",
    "    ax = sns.heatmap(\n",
    "        cm,\n",
    "        annot=True,\n",
    "        fmt=\"d\",\n",
    "        cmap=cmap,\n",
    "        cbar=True,\n",
    "        xticklabels=cm.columns,\n",
    "        yticklabels=cm.index\n",
    "    )\n",
    "    ax.set_xlabel(\"Predicted Class\")\n",
    "    ax.set_ylabel(\"True Class\")\n",
    "    ax.set_title(f\"Confusion Matrix ({title_survix}, kostenbasierte Entscheidung)\")\n",
    "\n",
    "    plt.tight_layout()\n",
    "\n",
    "    if output_path:\n",
    "        plt.savefig(output_path, dpi=300)\n",
    "        print(f\"Confusion matrix heatmap saved to {output_path}\")\n",
    "\n",
    "    plt.show()"
   ]
  },
  {
   "cell_type": "code",
   "execution_count": 91,
   "id": "4d06c001",
   "metadata": {},
   "outputs": [
    {
     "name": "stdout",
     "output_type": "stream",
     "text": [
      "Confusion matrix heatmap saved to ../data/07_model_output/RSF/confusion_matrix_cost.png\n"
     ]
    },
    {
     "data": {
      "image/png": "[encoded data removed]",
      "text/plain": [
       "<Figure size 600x500 with 2 Axes>"
      ]
     },
     "metadata": {},
     "output_type": "display_data"
    }
   ],
   "source": [
    "plot_confusion_matrix_from_csv(\n",
    "    csv_path=\"../data/07_model_output/RSF/confusion_matrix_cost.csv\",\n",
    "    output_path=\"../data/07_model_output/RSF/confusion_matrix_cost.png\",\n",
    "    title_survix=\"RSF cost\"\n",
    ")"
   ]
  },
  {
   "cell_type": "code",
   "execution_count": 92,
   "id": "aeee049e",
   "metadata": {},
   "outputs": [
    {
     "name": "stdout",
     "output_type": "stream",
     "text": [
      "Confusion matrix heatmap saved to ../data/07_model_output/RSF_test/confusion_matrix_cost.png\n"
     ]
    },
    {
     "data": {
      "image/png": "[encoded data removed]",
      "text/plain": [
       "<Figure size 600x500 with 2 Axes>"
      ]
     },
     "metadata": {},
     "output_type": "display_data"
    }
   ],
   "source": [
    "plot_confusion_matrix_from_csv(\n",
    "    csv_path=\"../data/07_model_output/RSF_test/confusion_matrix_cost.csv\",\n",
    "    output_path=\"../data/07_model_output/RSF_test/confusion_matrix_cost.png\",\n",
    "    title_survix=\"RSF test cost\"\n",
    ")"
   ]
  },
  {
   "cell_type": "code",
   "execution_count": 93,
   "id": "3365a47a",
   "metadata": {},
   "outputs": [
    {
     "name": "stdout",
     "output_type": "stream",
     "text": [
      "Confusion matrix heatmap saved to ../data/07_model_output/RSF/confusion_matrix_argmax.png\n"
     ]
    },
    {
     "data": {
      "image/png": "[encoded data removed]",
      "text/plain": [
       "<Figure size 600x500 with 2 Axes>"
      ]
     },
     "metadata": {},
     "output_type": "display_data"
    }
   ],
   "source": [
    "plot_confusion_matrix_from_csv(\n",
    "    csv_path=\"../data/07_model_output/RSF/confusion_matrix_argmax.csv\",\n",
    "    output_path=\"../data/07_model_output/RSF/confusion_matrix_argmax.png\",\n",
    "    title_survix=\"RSF argmax\"\n",
    ")"
   ]
  },
  {
   "cell_type": "code",
   "execution_count": 94,
   "id": "2006317e",
   "metadata": {},
   "outputs": [
    {
     "name": "stdout",
     "output_type": "stream",
     "text": [
      "Confusion matrix heatmap saved to ../data/07_model_output/RSF_test/confusion_matrix_argmax.png\n"
     ]
    },
    {
     "data": {
      "image/png": "[encoded data removed]",
      "text/plain": [
       "<Figure size 600x500 with 2 Axes>"
      ]
     },
     "metadata": {},
     "output_type": "display_data"
    }
   ],
   "source": [
    "plot_confusion_matrix_from_csv(\n",
    "    csv_path=\"../data/07_model_output/RSF_test/confusion_matrix_argmax.csv\",\n",
    "    output_path=\"../data/07_model_output/RSF_test/confusion_matrix_argmax.png\",\n",
    "    title_survix=\"RSF test argmax\"\n",
    ")"
   ]
  },
  {
   "cell_type": "markdown",
   "id": "d4d0cf09",
   "metadata": {},
   "source": [
    "### 2. XGBoost"
   ]
  },
  {
   "cell_type": "markdown",
   "id": "b4b49f7c",
   "metadata": {},
   "source": [
    "#### 2.1 Brier-Score"
   ]
  },
  {
   "cell_type": "code",
   "execution_count": null,
   "id": "6a4ab4a9",
   "metadata": {},
   "outputs": [],
   "source": [
    "def aft_brier_score_on_test(\n",
    "    booster: xgb.Booster,\n",
    "    dtest: xgb.DMatrix,\n",
    "    y_train_surv: np.ndarray,\n",
    "    y_test_surv: np.ndarray,\n",
    "    sigma: float,\n",
    "    output_base: str = \"../data/07_model_output\",\n",
    "    model_subdir: str = \"AFT\",\n",
    "    time_grid: np.ndarray | None = None,\n",
    "    n_grid: int = 100\n",
    ") -> dict:\n",
    "    \"\"\"\n",
    "    Berechnet den integrierten Brier Score (IBS) für ein AFT-Modell.\n",
    "\n",
    "    Args:\n",
    "        booster: Trainiertes XGBoost AFT Modell.\n",
    "        dtest: Testdaten als xgb.DMatrix.\n",
    "        y_train_surv: Train-Survivaldaten (für Zensurgewichtung).\n",
    "        y_test_surv: Test-Survivaldaten (für Evaluation, letzter Readout pro Fahrzeug).\n",
    "        sigma: Skalenparameter des AFT-Modells.\n",
    "        output_base: Basisordner für Outputs.\n",
    "        model_subdir: Unterordner, z. B. \"AFT\".\n",
    "        time_grid: Optional vordefinierte Zeitpunkte. Wenn None → gleichmäßig bis tau.\n",
    "        n_grid: Anzahl der Punkte für das Zeitraster.\n",
    "\n",
    "    Returns:\n",
    "        dict mit IBS, tau, times, brier_scores, Pfad zur JSON-Datei.\n",
    "    \"\"\"\n",
    "    out_dir = os.path.join(output_base, model_subdir)\n",
    "    ensure_dir(out_dir)\n",
    "\n",
    "    # Maximale Eventzeit im Test (nur Events!)\n",
    "    tau = float(y_test_surv[\"time\"][y_test_surv[\"event\"]].max())\n",
    "\n",
    "    # Zeitraster\n",
    "    if time_grid is None:\n",
    "        times = np.linspace(1.0, tau, n_grid)\n",
    "    else:\n",
    "        times = np.asarray(time_grid, dtype=float)\n",
    "\n",
    "    # Survivalmatrix S(t) für alle Zeitpunkte berechnen\n",
    "    mu = booster.predict(dtest)  # Erwartungswert (shape N,)\n",
    "    sigma = float(sigma)\n",
    "    sigma = max(sigma, 1e-3)\n",
    "\n",
    "    S = np.stack([\n",
    "        1.0 - scipy.stats.norm.cdf(t, loc=mu, scale=sigma)\n",
    "        for t in times\n",
    "    ], axis=1)  # (N, len(times))\n",
    "\n",
    "    # Brier Score\n",
    "    brier_scores, _ = brier_score(y_train_surv, y_test_surv, S, times)\n",
    "    ibs = float(np.trapz(brier_scores, times) / (times[-1] - times[0]))\n",
    "\n",
    "    results = {\n",
    "        \"ibs\": ibs,\n",
    "        \"tau\": tau,\n",
    "        \"times\": times.tolist(),\n",
    "        \"brier_scores\": brier_scores.tolist(),\n",
    "    }\n",
    "\n",
    "    out_path = os.path.join(out_dir, \"brier_score.json\")\n",
    "    with open(out_path, \"w\", encoding=\"utf-8\") as f:\n",
    "        json.dump(results, f, indent=2)\n",
    "    results[\"path\"] = out_path\n",
    "\n",
    "    return results"
   ]
  },
  {
   "cell_type": "markdown",
   "id": "df576ce0",
   "metadata": {},
   "source": [
    "### Anwendung"
   ]
  },
  {
   "cell_type": "code",
   "execution_count": 215,
   "id": "bedfa997",
   "metadata": {},
   "outputs": [],
   "source": [
    "dtest = prepare_aft_model_input(load_df(ordner=\"04_feature\", name = \"feature_test_corr_labels\"), columns_to_drop=[\"duration\", \"event\", \"vehicle_id\", \"class_label\", \"upper_bound\"])\n"
   ]
  },
  {
   "cell_type": "code",
   "execution_count": 216,
   "id": "1e182653",
   "metadata": {},
   "outputs": [],
   "source": [
    "x_test, y_test = prepare_rsf_model_input(load_df(ordner=\"04_feature\", name = \"feature_test_corr_labels\").drop(columns=[\"upper_bound\"]), columns_to_drop=[\"duration\", \"event\", \"vehicle_id\", \"class_label\"], frag=1.0, class_column=\"class_label\", sampling=False) \n",
    "x_train, y_train = prepare_rsf_model_input(load_df(ordner=\"04_feature\", name = \"feature_train_corr_labels\").drop(columns=[\"upper_bound\"]), columns_to_drop=[\"duration\", \"event\", \"vehicle_id\", \"class\"], frag=1.0, class_column=\"class\", sampling=False) \n"
   ]
  },
  {
   "cell_type": "code",
   "execution_count": 217,
   "id": "28e22e68",
   "metadata": {},
   "outputs": [],
   "source": [
    "best_params = load_df(ordner=\"05_model_input\", name=\"atf_best_params_totalcost\")"
   ]
  },
  {
   "cell_type": "code",
   "execution_count": 218,
   "id": "33a839f3",
   "metadata": {},
   "outputs": [],
   "source": [
    "aft_model_final = load_model(\"AFT_final_model\")"
   ]
  },
  {
   "cell_type": "code",
   "execution_count": 224,
   "id": "118df73a",
   "metadata": {},
   "outputs": [
    {
     "name": "stderr",
     "output_type": "stream",
     "text": [
      "/tmp/ipykernel_2068/1047054151.py:6: FutureWarning: Calling float on a single element Series is deprecated and will raise a TypeError in the future. Use float(ser.iloc[0]) instead\n",
      "  sigma=float(best_params[\"aft_loss_distribution_scale\"]),\n"
     ]
    },
    {
     "name": "stdout",
     "output_type": "stream",
     "text": [
      "{'ibs': 24.0, 'tau': 47.0, 'times': [1.0, 1.9387755102040818, 2.8775510204081636, 3.816326530612245, 4.755102040816327, 5.6938775510204085, 6.63265306122449, 7.571428571428572, 8.510204081632654, 9.448979591836736, 10.387755102040817, 11.326530612244898, 12.26530612244898, 13.204081632653061, 14.142857142857144, 15.081632653061225, 16.02040816326531, 16.95918367346939, 17.89795918367347, 18.836734693877553, 19.775510204081634, 20.714285714285715, 21.653061224489797, 22.591836734693878, 23.53061224489796, 24.46938775510204, 25.408163265306122, 26.346938775510207, 27.28571428571429, 28.22448979591837, 29.16326530612245, 30.102040816326532, 31.040816326530614, 31.979591836734695, 32.91836734693878, 33.85714285714286, 34.79591836734694, 35.734693877551024, 36.673469387755105, 37.61224489795919, 38.55102040816327, 39.48979591836735, 40.42857142857143, 41.36734693877551, 42.30612244897959, 43.244897959183675, 44.183673469387756, 45.12244897959184, 46.06122448979592, 47.0], 'brier_scores': [1.0, 1.9387755102040818, 2.8775510204081636, 3.816326530612245, 4.755102040816327, 5.6938775510204085, 6.63265306122449, 7.571428571428572, 8.510204081632654, 9.448979591836736, 10.387755102040817, 11.326530612244898, 12.26530612244898, 13.204081632653061, 14.142857142857144, 15.081632653061225, 16.02040816326531, 16.95918367346939, 17.89795918367347, 18.836734693877553, 19.775510204081634, 20.714285714285715, 21.653061224489797, 22.591836734693878, 23.53061224489796, 24.46938775510204, 25.408163265306122, 26.346938775510207, 27.28571428571429, 28.22448979591837, 29.16326530612245, 30.102040816326532, 31.040816326530614, 31.979591836734695, 32.91836734693878, 33.85714285714286, 34.79591836734694, 35.734693877551024, 36.673469387755105, 37.61224489795919, 38.55102040816327, 39.48979591836735, 40.42857142857143, 41.36734693877551, 42.30612244897959, 43.244897959183675, 44.183673469387756, 45.12244897959184, 46.06122448979592, 47.0], 'path': '../data/07_model_output/AFT/brier_score.json'}\n"
     ]
    }
   ],
   "source": [
    "results_brier_aft = aft_brier_score_on_test(\n",
    "    booster=aft_model_final,\n",
    "    dtest=dtest,\n",
    "    y_train_surv=y_train,   # alle Readouts\n",
    "    y_test_surv=y_test,     # nur letzter Readout pro Fahrzeug\n",
    "    sigma=float(best_params[\"aft_loss_distribution_scale\"]),\n",
    "    model_subdir=\"AFT\"\n",
    ")\n",
    "print(results_brier_aft)"
   ]
  },
  {
   "cell_type": "markdown",
   "id": "2bd343f7",
   "metadata": {},
   "source": [
    "#### 2.2 Kostenanalyse"
   ]
  },
  {
   "cell_type": "markdown",
   "id": "f18694b2",
   "metadata": {},
   "source": [
    "#### Daten vorbereiten"
   ]
  },
  {
   "cell_type": "code",
   "execution_count": 139,
   "id": "83dcb7c7",
   "metadata": {},
   "outputs": [],
   "source": [
    "dtest = prepare_rsf_model_input(load_df(ordner=\"04_feature\", name = \"feature_test_corr_labels\"), columns_to_drop=[\"duration\", \"event\", \"vehicle_id\", \"class_label\", \"upper_bound\"])\n",
    "labels_test = load_df(ordner=\"04_feature\", name = \"feature_test_corr_labels\")[\"class_label\"]\n"
   ]
  },
  {
   "cell_type": "code",
   "execution_count": 111,
   "id": "32c83ddd",
   "metadata": {},
   "outputs": [],
   "source": [
    "best_params = load_df(ordner=\"05_model_input\", name=\"atf_best_params_totalcost\")"
   ]
  },
  {
   "cell_type": "markdown",
   "id": "8ce1bd07",
   "metadata": {},
   "source": [
    "#### predict survival function"
   ]
  },
  {
   "cell_type": "code",
   "execution_count": 158,
   "id": "83a44524",
   "metadata": {},
   "outputs": [],
   "source": [
    "def predict_survival_prob(booster: xgb.Booster, d: xgb.DMatrix, sigma: float) -> np.ndarray:\n",
    "    \"\"\"\n",
    "    Predict survival probabilities at specified time points using an XGBoost AFT model.\n",
    "\n",
    "    Args:\n",
    "        booster: Trained XGBoost Booster.\n",
    "        dval: xgb.DMatrix with data.\n",
    "        sigma: Scale parameter (float).\n",
    "\n",
    "    Returns:\n",
    "        np.ndarray: Survival probs at TAUS, shape (N, len(TAUS)).\n",
    "    \"\"\"\n",
    "    mu = booster.predict(d)  # (n_samples,)\n",
    "    sigma = float(sigma)\n",
    "    sigma = max(sigma, 1e-3)\n",
    "\n",
    "    S = np.stack([\n",
    "        1.0 - scipy.stats.norm.cdf(tau, loc=mu, scale=sigma)\n",
    "        for tau in TAUS\n",
    "    ], axis=1)\n",
    "\n",
    "    return S\n"
   ]
  },
  {
   "cell_type": "markdown",
   "id": "f4435e6f",
   "metadata": {},
   "source": [
    "#### decider function"
   ]
  },
  {
   "cell_type": "code",
   "execution_count": 159,
   "id": "7bbbf5c0",
   "metadata": {},
   "outputs": [],
   "source": [
    "def decide_with_cost_from_aft_at_taus(\n",
    "    booster: xgb.Booster,\n",
    "    dmatrix: xgb.DMatrix,\n",
    "    taus: np.ndarray,\n",
    "    cost: np.ndarray,\n",
    "    sigma: float\n",
    ") -> Tuple[np.ndarray, np.ndarray, np.ndarray]:\n",
    "    \"\"\"\n",
    "    Entscheidet je Instanz nach minimaler erwarteter Kostenklasse auf Basis\n",
    "    eines XGBoost AFT-Modells.\n",
    "\n",
    "    Args:\n",
    "        booster: Trainiertes XGBoost AFT Modell (xgb.Booster).\n",
    "        dmatrix: Eingabedaten als xgb.DMatrix.\n",
    "        taus: Klassengrenzen (4,).\n",
    "        cost: Kostenmatrix (5,5).\n",
    "        sigma: AFT-Scale-Parameter.\n",
    "\n",
    "    Returns:\n",
    "        Tuple[np.ndarray, np.ndarray, np.ndarray]:\n",
    "            pred_class: Länge N, vorhergesagte Klasse {0..4}.\n",
    "            exp_cost_min: Länge N, minimale erwartete Kosten.\n",
    "            probs: Matrix (N,5) mit Wahrscheinlichkeiten p0..p4.\n",
    "    \"\"\"\n",
    "    # Survivalwahrscheinlichkeiten an TAUS berechnen\n",
    "    S_tau = predict_survival_prob(d=dmatrix, booster=booster, sigma=sigma)  # (N,4)\n",
    "\n",
    "    N = S_tau.shape[0]\n",
    "    pred_class = np.zeros(N, dtype=int)\n",
    "    exp_cost_min = np.zeros(N, dtype=float)\n",
    "    probs = np.zeros((N, 5), dtype=float)\n",
    "\n",
    "    for i, s in enumerate(S_tau):\n",
    "        p = class_probs_from_S_tau(s)\n",
    "        exp_vec = cost.T @ p\n",
    "        m_hat = int(np.argmin(exp_vec))\n",
    "        pred_class[i] = m_hat\n",
    "        exp_cost_min[i] = float(exp_vec[m_hat])\n",
    "        probs[i, :] = p\n",
    "\n",
    "    return pred_class, exp_cost_min, probs\n"
   ]
  },
  {
   "cell_type": "code",
   "execution_count": 153,
   "id": "ff0bbf37",
   "metadata": {},
   "outputs": [],
   "source": [
    "def evaluate_and_save_cost_decision_aft(\n",
    "    booster: xgb.Booster,\n",
    "    dmatrix: xgb.DMatrix,\n",
    "    true_class: np.ndarray,\n",
    "    taus: np.ndarray,\n",
    "    cost: np.ndarray,\n",
    "    sigma: float,\n",
    "    output_dir: str = \"../data/07_model_output/AFT\",\n",
    "    save_probs: bool = False,\n",
    "    survix: str = \"cost\"\n",
    ") -> dict:\n",
    "    \"\"\"\n",
    "    Führt die kostenbasierte Entscheidung mit einem XGBoost AFT Modell durch,\n",
    "    berechnet realisierte Kosten & Genauigkeit und speichert Artefakte.\n",
    "\n",
    "    Args:\n",
    "        booster: Trainiertes AFT-Booster-Modell.\n",
    "        dmatrix: Daten als xgb.DMatrix.\n",
    "        true_class: Wahre Klassenlabels {0..4}.\n",
    "        taus: Klassengrenzen [tau1..tau4].\n",
    "        cost: Kostenmatrix (5x5).\n",
    "        sigma: Scale-Parameter des AFT-Modells.\n",
    "        output_dir: Zielverzeichnis.\n",
    "        save_probs: Ob p0..p4 gespeichert werden sollen.\n",
    "        survix: Suffix für Dateinamen.\n",
    "\n",
    "    Returns:\n",
    "        dict mit Pfaden & Kennzahlen.\n",
    "    \"\"\"\n",
    "    ensure_dir(output_dir)\n",
    "\n",
    "    pred_class, exp_cost_min, probs = decide_with_cost_from_aft_at_taus(\n",
    "        booster, dmatrix, taus, cost, sigma\n",
    "    )\n",
    "    avg_cost, total_cost, cm, accuracy = evaluate_decision_costs_from_true(\n",
    "        true_class, pred_class, cost\n",
    "    )\n",
    "\n",
    "    metrics = {\n",
    "        \"avg_realised_cost\": float(avg_cost),\n",
    "        \"total_realised_cost\": float(total_cost),\n",
    "        \"accuracy\": float(accuracy),\n",
    "        \"n_instances\": int(len(pred_class)),\n",
    "        \"taus\": list(map(float, taus)),\n",
    "    }\n",
    "\n",
    "    metrics_path = os.path.join(output_dir, f\"metrics_{survix}.json\")\n",
    "    cm_path = os.path.join(output_dir, f\"confusion_matrix_{survix}.csv\")\n",
    "    probs_path = os.path.join(output_dir, f\"class_probs_{survix}.csv\")\n",
    "\n",
    "    with open(metrics_path, \"w\", encoding=\"utf-8\") as f:\n",
    "        json.dump(metrics, f, indent=2)\n",
    "\n",
    "    pd.DataFrame(cm, index=[0, 1, 2, 3, 4], columns=[0, 1, 2, 3, 4]).to_csv(cm_path, index=True)\n",
    "\n",
    "    if save_probs:\n",
    "        pd.DataFrame(probs, columns=[f\"p{c}\" for c in range(5)]).to_csv(probs_path, index=False)\n",
    "\n",
    "    return {\n",
    "        \"metrics_path\": metrics_path,\n",
    "        \"confusion_matrix_path\": cm_path,\n",
    "        \"class_probs_path\": probs_path if save_probs else None,\n",
    "        \"avg_realised_cost\": float(avg_cost),\n",
    "        \"total_realised_cost\": float(total_cost),\n",
    "        \"accuracy\": float(accuracy),\n",
    "    }\n"
   ]
  },
  {
   "cell_type": "markdown",
   "id": "ce8d0432",
   "metadata": {},
   "source": [
    "#### Evaulation function"
   ]
  },
  {
   "cell_type": "code",
   "execution_count": 124,
   "id": "6e67b6c7",
   "metadata": {},
   "outputs": [],
   "source": [
    "def run_aft_cost_evaluation(\n",
    "    booster: xgb.Booster,\n",
    "    dmatrix: xgb.DMatrix,\n",
    "    true_classes: np.ndarray,\n",
    "    taus: np.ndarray,\n",
    "    cost: np.ndarray,\n",
    "    sigma: float,\n",
    "    output_dir: str = \"../data/07_model_output/AFT\",\n",
    "    save_probs: bool = True,\n",
    "    survix: str = \"cost\"\n",
    ") -> dict:\n",
    "    \"\"\"\n",
    "    Führt eine vollständige Kosten-Evaluation für ein trainiertes XGBoost-AFT Modell durch.\n",
    "\n",
    "    Args:\n",
    "        booster: Trainiertes XGBoost Booster Modell (AFT).\n",
    "        dmatrix: Eingabedaten (Validation oder Test) als xgb.DMatrix.\n",
    "        true_classes: Wahre Klassenlabels {0..4}.\n",
    "        taus: Klassengrenzen [tau1..tau4].\n",
    "        cost: Kostenmatrix (5x5).\n",
    "        sigma: Scale-Parameter des AFT-Modells.\n",
    "        output_dir: Zielverzeichnis für Artefakte.\n",
    "        save_probs: Ob Klassenwahrscheinlichkeiten gespeichert werden sollen.\n",
    "        survix: Suffix für Dateinamen (\"cost\", \"argmax\" usw.).\n",
    "\n",
    "    Returns:\n",
    "        dict: Enthält Pfade zu gespeicherten Artefakten und Kennzahlen.\n",
    "    \"\"\"\n",
    "    results = evaluate_and_save_cost_decision_aft(\n",
    "        booster=booster,\n",
    "        dmatrix=dmatrix,\n",
    "        true_class=true_classes,\n",
    "        taus=taus,\n",
    "        cost=cost,\n",
    "        sigma=sigma,\n",
    "        output_dir=output_dir,\n",
    "        save_probs=save_probs,\n",
    "        survix=survix,\n",
    "    )\n",
    "\n",
    "    print(\"AFT Evaluation Results:\")\n",
    "    for k, v in results.items():\n",
    "        print(f\"  {k}: {v}\")\n",
    "\n",
    "    return results\n"
   ]
  },
  {
   "cell_type": "markdown",
   "id": "794e41d9",
   "metadata": {},
   "source": [
    "#### Anwendung"
   ]
  },
  {
   "cell_type": "code",
   "execution_count": 120,
   "id": "6ed6becb",
   "metadata": {},
   "outputs": [],
   "source": [
    "aft_model_final = load_model(\"AFT_final_model\")"
   ]
  },
  {
   "cell_type": "code",
   "execution_count": null,
   "id": "65cfc19e",
   "metadata": {},
   "outputs": [],
   "source": [
    "dvalidation = prepare_rsf_model_input(load_df(ordner=\"04_feature\", name = \"feature_validation_corr_labels\"), columns_to_drop=[\"duration\", \"event\", \"vehicle_id\", \"class_label\", \"upper_bound\"])\n",
    "labels_vali = load_df(ordner=\"04_feature\", name = \"feature_validation_corr_labels\")[\"class_label\"]"
   ]
  },
  {
   "cell_type": "code",
   "execution_count": 177,
   "id": "9d45adff",
   "metadata": {},
   "outputs": [
    {
     "name": "stdout",
     "output_type": "stream",
     "text": [
      "AFT Evaluation Results:\n",
      "  metrics_path: ../data/07_model_output/AFT/metrics_cost.json\n",
      "  confusion_matrix_path: ../data/07_model_output/AFT/confusion_matrix_cost.csv\n",
      "  class_probs_path: ../data/07_model_output/AFT/class_probs_cost.csv\n",
      "  avg_realised_cost: 9.295855641483245\n",
      "  total_realised_cost: 46879.0\n",
      "  accuracy: 0.42752329962324015\n"
     ]
    },
    {
     "name": "stderr",
     "output_type": "stream",
     "text": [
      "/tmp/ipykernel_2068/4075226449.py:7: FutureWarning: Calling float on a single element Series is deprecated and will raise a TypeError in the future. Use float(ser.iloc[0]) instead\n",
      "  sigma=float(best_params[\"aft_loss_distribution_scale\"]),\n"
     ]
    }
   ],
   "source": [
    "results_aft_cost = run_aft_cost_evaluation(\n",
    "    booster=aft_model_final,\n",
    "    dmatrix=dtest,\n",
    "    true_classes=labels_test.to_numpy(),\n",
    "    taus=TAUS,\n",
    "    cost=COST,\n",
    "    sigma=float(best_params[\"aft_loss_distribution_scale\"]),\n",
    "    output_dir=\"../data/07_model_output/AFT\",\n",
    "    save_probs=True,\n",
    "    survix=\"cost\"\n",
    ")\n"
   ]
  },
  {
   "cell_type": "markdown",
   "id": "8db0c907",
   "metadata": {},
   "source": [
    "#### Entscheidung nach Argmax"
   ]
  },
  {
   "cell_type": "markdown",
   "id": "1c3852a7",
   "metadata": {},
   "source": [
    "#### decider function"
   ]
  },
  {
   "cell_type": "code",
   "execution_count": 161,
   "id": "09b56784",
   "metadata": {},
   "outputs": [],
   "source": [
    "def decide_with_argmax_from_aft_at_taus(\n",
    "    booster: xgb.Booster,\n",
    "    dmatrix: xgb.DMatrix,\n",
    "    taus: np.ndarray,\n",
    "    sigma: float\n",
    ") -> Tuple[np.ndarray, np.ndarray, np.ndarray]:\n",
    "    \"\"\"\n",
    "    Entscheidet je Instanz nach der Klasse mit maximaler Wahrscheinlichkeit (argmax).\n",
    "\n",
    "    Args:\n",
    "        booster: Trainiertes XGBoost AFT Modell.\n",
    "        dmatrix: Eingabedaten als xgb.DMatrix.\n",
    "        taus: Klassengrenzen [tau1..tau4].\n",
    "        sigma: AFT Scale-Parameter.\n",
    "\n",
    "    Returns:\n",
    "        Tuple[np.ndarray, np.ndarray, np.ndarray]:\n",
    "            pred_class: Länge N, vorhergesagte Klasse {0..4}.\n",
    "            max_probs: Länge N, zugehörige max. Wahrscheinlichkeit.\n",
    "            probs: Matrix (N,5) mit Wahrscheinlichkeiten p0..p4.\n",
    "    \"\"\"\n",
    "    # Survivalwahrscheinlichkeiten S(tau) berechnen\n",
    "    S_tau = predict_survival_prob(booster, dmatrix, sigma=sigma)  # (N,4)\n",
    "\n",
    "    N = S_tau.shape[0]\n",
    "    probs = np.vstack([class_probs_from_S_tau(S_tau[i, :]) for i in range(N)])  # (N,5)\n",
    "\n",
    "    pred_class = probs.argmax(axis=1).astype(int)\n",
    "    max_probs = probs[np.arange(N), pred_class]\n",
    "    return pred_class, max_probs, probs\n"
   ]
  },
  {
   "cell_type": "code",
   "execution_count": 162,
   "id": "b8ed1fc4",
   "metadata": {},
   "outputs": [],
   "source": [
    "def evaluate_and_save_argmax_decision_aft(\n",
    "    booster: xgb.Booster,\n",
    "    dmatrix: xgb.DMatrix,\n",
    "    true_class: np.ndarray,\n",
    "    taus: np.ndarray,\n",
    "    cost: np.ndarray,\n",
    "    sigma: float,\n",
    "    output_dir: str = \"../data/07_model_output/AFT\",\n",
    "    save_probs: bool = False,\n",
    "    survix: str = \"argmax\"\n",
    ") -> dict:\n",
    "    \"\"\"\n",
    "    Führt die argmax-Entscheidung mit einem XGBoost AFT Modell durch,\n",
    "    berechnet realisierte Kosten & Genauigkeit und speichert Artefakte.\n",
    "\n",
    "    Args:\n",
    "        booster: Trainiertes AFT-Booster-Modell.\n",
    "        dmatrix: Daten als xgb.DMatrix.\n",
    "        true_class: Wahre Klassen {0..4}.\n",
    "        taus: Klassengrenzen [tau1..tau4].\n",
    "        cost: Kostenmatrix (5x5).\n",
    "        sigma: Scale-Parameter des AFT-Modells.\n",
    "        output_dir: Zielverzeichnis.\n",
    "        save_probs: Ob Wahrscheinlichkeiten gespeichert werden sollen.\n",
    "        survix: Suffix für Dateinamen.\n",
    "\n",
    "    Returns:\n",
    "        dict: Pfade zu gespeicherten Artefakten und Kennzahlen.\n",
    "    \"\"\"\n",
    "    ensure_dir(output_dir)\n",
    "\n",
    "    pred_class, max_probs, probs = decide_with_argmax_from_aft_at_taus(\n",
    "        booster, dmatrix, taus, sigma\n",
    "    )\n",
    "    avg_cost, total_cost, cm, accuracy = evaluate_decision_costs_from_true(\n",
    "        true_class, pred_class, cost\n",
    "    )\n",
    "\n",
    "    metrics = {\n",
    "        \"avg_realised_cost\": float(avg_cost),\n",
    "        \"total_realised_cost\": float(total_cost),\n",
    "        \"accuracy\": float(accuracy),\n",
    "        \"n_instances\": int(len(pred_class)),\n",
    "        \"taus\": list(map(float, taus)),\n",
    "    }\n",
    "\n",
    "    metrics_path = os.path.join(output_dir, f\"metrics_{survix}.json\")\n",
    "    cm_path = os.path.join(output_dir, f\"confusion_matrix_{survix}.csv\")\n",
    "    probs_path = os.path.join(output_dir, f\"class_probs_{survix}.csv\")\n",
    "\n",
    "    with open(metrics_path, \"w\", encoding=\"utf-8\") as f:\n",
    "        json.dump(metrics, f, indent=2)\n",
    "\n",
    "    pd.DataFrame(cm, index=[0, 1, 2, 3, 4], columns=[0, 1, 2, 3, 4]).to_csv(cm_path, index=True)\n",
    "\n",
    "    if save_probs:\n",
    "        pd.DataFrame(probs, columns=[f\"p{c}\" for c in range(5)]).to_csv(probs_path, index=False)\n",
    "\n",
    "    return {\n",
    "        \"metrics_path\": metrics_path,\n",
    "        \"confusion_matrix_path\": cm_path,\n",
    "        \"class_probs_path\": probs_path if save_probs else None,\n",
    "        \"avg_realised_cost\": float(avg_cost),\n",
    "        \"total_realised_cost\": float(total_cost),\n",
    "        \"accuracy\": float(accuracy),\n",
    "    }\n"
   ]
  },
  {
   "cell_type": "code",
   "execution_count": 163,
   "id": "02033db9",
   "metadata": {},
   "outputs": [],
   "source": [
    "def run_aft_argmax_evaluation(\n",
    "    booster: xgb.Booster,\n",
    "    dmatrix: xgb.DMatrix,\n",
    "    true_classes: np.ndarray,\n",
    "    taus: np.ndarray,\n",
    "    cost: np.ndarray,\n",
    "    sigma: float,\n",
    "    output_dir: str = \"../data/07_model_output/AFT\",\n",
    "    save_probs: bool = True,\n",
    "    survix: str = \"argmax\"\n",
    ") -> dict:\n",
    "    \"\"\"\n",
    "    Wrapper für die Argmax-Evaluation mit XGBoost AFT.\n",
    "    \"\"\"\n",
    "    results = evaluate_and_save_argmax_decision_aft(\n",
    "        booster=booster,\n",
    "        dmatrix=dmatrix,\n",
    "        true_class=true_classes,\n",
    "        taus=taus,\n",
    "        cost=cost,\n",
    "        sigma=sigma,\n",
    "        output_dir=output_dir,\n",
    "        save_probs=save_probs,\n",
    "        survix=survix,\n",
    "    )\n",
    "\n",
    "    print(\"AFT Argmax Evaluation Results:\")\n",
    "    for k, v in results.items():\n",
    "        print(f\"  {k}: {v}\")\n",
    "\n",
    "    return results\n"
   ]
  },
  {
   "cell_type": "markdown",
   "id": "57ff3284",
   "metadata": {},
   "source": [
    "#### Anwendung"
   ]
  },
  {
   "cell_type": "code",
   "execution_count": 178,
   "id": "a80ad9da",
   "metadata": {},
   "outputs": [
    {
     "name": "stdout",
     "output_type": "stream",
     "text": [
      "AFT Argmax Evaluation Results:\n",
      "  metrics_path: ../data/07_model_output/AFT/metrics_argmax.json\n",
      "  confusion_matrix_path: ../data/07_model_output/AFT/confusion_matrix_argmax.csv\n",
      "  class_probs_path: ../data/07_model_output/AFT/class_probs_argmax.csv\n",
      "  avg_realised_cost: 9.295855641483245\n",
      "  total_realised_cost: 46879.0\n",
      "  accuracy: 0.42752329962324015\n",
      "{'metrics_path': '../data/07_model_output/AFT/metrics_argmax.json', 'confusion_matrix_path': '../data/07_model_output/AFT/confusion_matrix_argmax.csv', 'class_probs_path': '../data/07_model_output/AFT/class_probs_argmax.csv', 'avg_realised_cost': 9.295855641483245, 'total_realised_cost': 46879.0, 'accuracy': 0.42752329962324015}\n"
     ]
    },
    {
     "name": "stderr",
     "output_type": "stream",
     "text": [
      "/tmp/ipykernel_2068/3022092098.py:7: FutureWarning: Calling float on a single element Series is deprecated and will raise a TypeError in the future. Use float(ser.iloc[0]) instead\n",
      "  sigma=float(best_params[\"aft_loss_distribution_scale\"]),\n"
     ]
    }
   ],
   "source": [
    "results_aft_argmax = run_aft_argmax_evaluation(\n",
    "    booster=aft_model_final,\n",
    "    dmatrix=dtest,\n",
    "    true_classes=labels_test.to_numpy(),\n",
    "    taus=TAUS,\n",
    "    cost=COST,\n",
    "    sigma=float(best_params[\"aft_loss_distribution_scale\"]),\n",
    "    output_dir=\"../data/07_model_output/AFT\",\n",
    "    save_probs=True,\n",
    "    survix=\"argmax\"\n",
    ")\n",
    "print(results_aft_argmax)"
   ]
  },
  {
   "cell_type": "code",
   "execution_count": 166,
   "id": "e5a35bc0",
   "metadata": {},
   "outputs": [
    {
     "name": "stdout",
     "output_type": "stream",
     "text": [
      "Klassen-Unterschiede: 0\n"
     ]
    },
    {
     "name": "stderr",
     "output_type": "stream",
     "text": [
      "/tmp/ipykernel_2068/199249728.py:1: FutureWarning: Calling float on a single element Series is deprecated and will raise a TypeError in the future. Use float(ser.iloc[0]) instead\n",
      "  pred_class_cost, _, _ = decide_with_cost_from_aft_at_taus(aft_model_final, dtest, TAUS, COST, sigma=float(best_params[\"aft_loss_distribution_scale\"]))\n",
      "/tmp/ipykernel_2068/199249728.py:2: FutureWarning: Calling float on a single element Series is deprecated and will raise a TypeError in the future. Use float(ser.iloc[0]) instead\n",
      "  pred_class_argmax, _, _ = decide_with_argmax_from_aft_at_taus(aft_model_final, dtest, TAUS, sigma=float(best_params[\"aft_loss_distribution_scale\"]))\n"
     ]
    }
   ],
   "source": [
    "pred_class_cost, _, _ = decide_with_cost_from_aft_at_taus(aft_model_final, dtest, TAUS, COST, sigma=float(best_params[\"aft_loss_distribution_scale\"]))\n",
    "pred_class_argmax, _, _ = decide_with_argmax_from_aft_at_taus(aft_model_final, dtest, TAUS, sigma=float(best_params[\"aft_loss_distribution_scale\"]))\n",
    "\n",
    "print(\"Klassen-Unterschiede:\", (pred_class_cost != pred_class_argmax).sum())\n"
   ]
  },
  {
   "cell_type": "markdown",
   "id": "0914ef89",
   "metadata": {},
   "source": [
    "#### Confusion-Matrix"
   ]
  },
  {
   "cell_type": "code",
   "execution_count": 179,
   "id": "afa816e4",
   "metadata": {},
   "outputs": [
    {
     "name": "stdout",
     "output_type": "stream",
     "text": [
      "Confusion matrix heatmap saved to ../data/07_model_output/AFT/confusion_matrix_cost.png\n"
     ]
    },
    {
     "data": {
      "image/png": "[encoded data removed]",
      "text/plain": [
       "<Figure size 600x500 with 2 Axes>"
      ]
     },
     "metadata": {},
     "output_type": "display_data"
    }
   ],
   "source": [
    "plot_confusion_matrix_from_csv(\n",
    "    csv_path=\"../data/07_model_output/AFT/confusion_matrix_cost.csv\",\n",
    "    output_path=\"../data/07_model_output/AFT/confusion_matrix_cost.png\",\n",
    "    title_survix=\"AFT cost\"\n",
    ")"
   ]
  },
  {
   "cell_type": "code",
   "execution_count": 180,
   "id": "b35ff11c",
   "metadata": {},
   "outputs": [
    {
     "name": "stdout",
     "output_type": "stream",
     "text": [
      "Confusion matrix heatmap saved to ../data/07_model_output/AFT/confusion_matrix_argmax.png\n"
     ]
    },
    {
     "data": {
      "image/png": "[encoded data removed]",
      "text/plain": [
       "<Figure size 600x500 with 2 Axes>"
      ]
     },
     "metadata": {},
     "output_type": "display_data"
    }
   ],
   "source": [
    "plot_confusion_matrix_from_csv(\n",
    "    csv_path=\"../data/07_model_output/AFT/confusion_matrix_argmax.csv\",\n",
    "    output_path=\"../data/07_model_output/AFT/confusion_matrix_argmax.png\",\n",
    "    title_survix=\"AFT argmax\"\n",
    ")"
   ]
  }
 ],
 "metadata": {
  "kernelspec": {
   "display_name": "Python 3",
   "language": "python",
   "name": "python3"
  },
  "language_info": {
   "codemirror_mode": {
    "name": "ipython",
    "version": 3
   },
   "file_extension": ".py",
   "mimetype": "text/x-python",
   "name": "python",
   "nbconvert_exporter": "python",
   "pygments_lexer": "ipython3",
   "version": "3.12.3"
  }
 },
 "nbformat": 4,
 "nbformat_minor": 5
}
