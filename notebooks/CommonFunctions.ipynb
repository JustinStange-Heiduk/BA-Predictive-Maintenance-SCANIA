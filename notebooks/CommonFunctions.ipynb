{
 "cells": [
  {
   "cell_type": "markdown",
   "id": "68c9814d",
   "metadata": {},
   "source": [
    "# Predictive Maintenance mit SCANIA-Daten – Common Functions to load\n",
    "\n",
    "**Projekt:** Bachelorarbeit Data Science  \n",
    "**Thema:** \n",
    "**Datengrundlage:** SCANIA Component X Dataset  \n",
    "**Autor:** Justin Stange-Heiduk  \n",
    "**Betreuung:** Dr. Martin Prause  \n",
    "**Ziel:** Erstellen und testen der Daten Vorbereitung Funktionen  \n",
    "\n",
    "---\n",
    "\n",
    "**Erstellt:** 2025-08-19   \n",
    "**Letzte Änderung:** 2025-07-25\n",
    "\n",
    "\n",
    "---"
   ]
  },
  {
   "cell_type": "code",
   "execution_count": 9,
   "id": "01563f61",
   "metadata": {},
   "outputs": [],
   "source": [
    "import pandas as pd"
   ]
  },
  {
   "cell_type": "code",
   "execution_count": 11,
   "id": "5b7387be",
   "metadata": {},
   "outputs": [],
   "source": [
    "def save_df(df: pd.DataFrame, ordner: str, name: str) -> None:\n",
    "    \"\"\"\n",
    "    Speichert ein DataFrame als Parquet-Datei im angegebenen Ordner.\n",
    "\n",
    "    Args:\n",
    "        df (pd.DataFrame): Das zu speichernde DataFrame.\n",
    "        ordner (str): Der Ordner, in dem die Parquet-Datei gespeichert werden soll.\n",
    "        name (str): Der Name der Parquet-Datei (ohne .parquet)\n",
    "    \"\"\"\n",
    "\n",
    "    df.to_parquet(f\"../data/{ordner}/{name}.parquet\", index=False)"
   ]
  },
  {
   "cell_type": "code",
   "execution_count": 13,
   "id": "20db674c",
   "metadata": {},
   "outputs": [],
   "source": [
    "def load_df(ordner: str, name: str) -> pd.DataFrame:\n",
    "    \"\"\"\n",
    "    Lädt ein DataFrame aus einer Parquet-Datei im angegebenen Ordner.\n",
    "\n",
    "    Args:\n",
    "        ordner (str): Der Ordner, in dem die Parquet-Datei gespeichert ist. (../data/{ordner})\n",
    "        name (str): Der Name der Parquet-Datei (ohne .parquet)\n",
    "\n",
    "    Returns:\n",
    "        pd.DataFrame: Das geladene DataFrame.\n",
    "    \"\"\"\n",
    "\n",
    "    return pd.read_parquet(f\"../data/{ordner}/{name}.parquet\")"
   ]
  },
  {
   "cell_type": "code",
   "execution_count": 5,
   "id": "fd868f50",
   "metadata": {},
   "outputs": [],
   "source": [
    "def load_raw_data() -> dict:\n",
    "    \"\"\"\n",
    "    Load raw data from a CSV file.\n",
    "\n",
    "    Returns:\n",
    "        dict: The loaded raw data.\n",
    "    \"\"\"\n",
    "    test_labels = pd.read_csv(\"../data/01_raw/test_labels.csv\")\n",
    "    test_operational = pd.read_csv(\"../data/01_raw/test_operational_readouts.csv\")\n",
    "    test_specifications = pd.read_csv(\"../data/01_raw/test_specifications.csv\")\n",
    "\n",
    "    train_tte = pd.read_csv(\"../data/01_raw/train_tte.csv\")\n",
    "    train_operational = pd.read_csv(\"../data/01_raw/train_operational_readouts.csv\")\n",
    "    train_specifications = pd.read_csv(\"../data/01_raw/train_specifications.csv\")\n",
    "\n",
    "    validation_tte = pd.read_csv(\"../data/01_raw/validation_labels.csv\")\n",
    "    validation_operational = pd.read_csv(\"../data/01_raw/validation_operational_readouts.csv\")\n",
    "    validation_specifications = pd.read_csv(\"../data/01_raw/validation_specifications.csv\")\n",
    "\n",
    "    return dict({\"test\": {\"labels\": test_labels, \"readouts\": test_operational, \"spec\": test_specifications},\n",
    "           \"train\": {\"tte\": train_tte, \"readouts\": train_operational, \"spec\": train_specifications},\n",
    "           \"validation\": {\"labels\": validation_tte, \"readouts\": validation_operational, \"spec\": validation_specifications}})"
   ]
  }
 ],
 "metadata": {
  "kernelspec": {
   "display_name": "meinenv",
   "language": "python",
   "name": "python3"
  },
  "language_info": {
   "codemirror_mode": {
    "name": "ipython",
    "version": 3
   },
   "file_extension": ".py",
   "mimetype": "text/x-python",
   "name": "python",
   "nbconvert_exporter": "python",
   "pygments_lexer": "ipython3",
   "version": "3.10.16"
  }
 },
 "nbformat": 4,
 "nbformat_minor": 5
}
