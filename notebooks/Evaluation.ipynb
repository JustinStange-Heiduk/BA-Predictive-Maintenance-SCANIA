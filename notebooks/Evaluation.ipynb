{
 "cells": [
  {
   "cell_type": "markdown",
   "id": "353645c2",
   "metadata": {},
   "source": [
    "# Predictive Maintenance mit SCANIA-Daten – Evaluation\n",
    "\n",
    "**Projekt:** Bachelorarbeit Data Science  \n",
    "**Thema:** \n",
    "**Datengrundlage:** SCANIA Component X Dataset  \n",
    "**Autor:** Justin Stange-Heiduk  \n",
    "**Betreuung:** Dr. Martin Prause  \n",
    "**Ziel:** Evaluation der Modelle XGBoost mit AFT und Random Forest Survival  \n",
    "\n",
    "---\n",
    "\n",
    "**Erstellt:** 2025-09-08\n",
    "**Letzte Änderung:** 2025-09-08\n",
    "\n",
    "\n",
    "---"
   ]
  },
  {
   "cell_type": "code",
   "execution_count": null,
   "id": "00745881",
   "metadata": {},
   "outputs": [],
   "source": [
    "import os\n",
    "import pickle\n",
    "import joblib\n",
    "from typing import Any\n",
    "import json\n",
    "from typing import Dict, Any, Iterable\n",
    "from sksurv.util import Surv\n",
    "from sksurv.metrics import concordance_index_censored, concordance_index_ipcw\n"
   ]
  },
  {
   "cell_type": "markdown",
   "id": "6bc5aa8f",
   "metadata": {},
   "source": [
    "### 1. RSF"
   ]
  },
  {
   "cell_type": "markdown",
   "id": "0c3e7ffb",
   "metadata": {},
   "source": [
    "### 1. RSF"
   ]
  },
  {
   "cell_type": "markdown",
   "id": "352eb4d0",
   "metadata": {},
   "source": [
    "#### Modell laden"
   ]
  },
  {
   "cell_type": "code",
   "execution_count": 6,
   "id": "d0da2b8f",
   "metadata": {},
   "outputs": [],
   "source": [
    "def load_model(model_path: str) -> Any:\n",
    "    \"\"\"\n",
    "    Load a trained survival model (RSF_final_model or AFT_final_model) from disk.\n",
    "\n",
    "    Args:\n",
    "        model_path (str):\n",
    "            Path to the model file (AFT or RSF).\n",
    "\n",
    "    Returns:\n",
    "        Any:\n",
    "            The loaded model object (e.g., RandomSurvivalForest, XGBModel).\n",
    "            The return type depends on the saved model.\n",
    "    \"\"\"\n",
    "    model_dir = os.path.join(f\"../data/06_models/{model_path}\")\n",
    "\n",
    "    # Look for pickle or joblib file inside the model directory\n",
    "    candidates = [\n",
    "        os.path.join(model_dir, f) for f in os.listdir(model_dir)\n",
    "        if f.endswith(\".pkl\")\n",
    "    ]\n",
    "\n",
    "    if not candidates:\n",
    "        raise FileNotFoundError(f\"No model file (.pkl) found in {model_dir}\")\n",
    "\n",
    "    model_path = candidates[0]\n",
    "\n",
    "    try:\n",
    "        if model_path.endswith(\".joblib\"):\n",
    "            model = joblib.load(model_path)\n",
    "        else:\n",
    "            with open(model_path, \"rb\") as f:\n",
    "                model = pickle.load(f)\n",
    "    except Exception as e:\n",
    "        raise RuntimeError(f\"Could not load model from {model_path}: {e}\")\n",
    "\n",
    "    return model\n"
   ]
  },
  {
   "cell_type": "code",
   "execution_count": 5,
   "id": "5604a187",
   "metadata": {},
   "outputs": [],
   "source": [
    "rsf_model = load_model(\"RSF_final_model\")"
   ]
  },
  {
   "cell_type": "markdown",
   "id": "0bbfa44b",
   "metadata": {},
   "source": [
    "#### Prepare Testdata"
   ]
  },
  {
   "cell_type": "code",
   "execution_count": null,
   "id": "c785d193",
   "metadata": {},
   "outputs": [],
   "source": [
    "test"
   ]
  }
 ],
 "metadata": {
  "kernelspec": {
   "display_name": "Python 3",
   "language": "python",
   "name": "python3"
  },
  "language_info": {
   "codemirror_mode": {
    "name": "ipython",
    "version": 3
   },
   "file_extension": ".py",
   "mimetype": "text/x-python",
   "name": "python",
   "nbconvert_exporter": "python",
   "pygments_lexer": "ipython3",
   "version": "3.12.3"
  }
 },
 "nbformat": 4,
 "nbformat_minor": 5
}
