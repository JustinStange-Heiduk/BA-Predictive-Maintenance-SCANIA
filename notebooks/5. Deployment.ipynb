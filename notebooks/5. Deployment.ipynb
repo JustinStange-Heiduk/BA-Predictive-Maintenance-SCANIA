{
 "cells": [
  {
   "cell_type": "markdown",
   "id": "6213a852",
   "metadata": {},
   "source": [
    "# Predictive Maintenance mit SCANIA-Daten – Deployment\n",
    "\n",
    "**Projekt:** Bachelorarbeit Data Science  \n",
    "**Thema:** \n",
    "**Datengrundlage:** SCANIA Component X Dataset  \n",
    "**Autor:** Justin Stange-Heiduk  \n",
    "**Betreuung:** Dr. Martin Prause  \n",
    "**Ziel:** Deployment der Modelle XGBoost mit AFT und Random Forest Survival  \n",
    "\n",
    "---\n",
    "\n",
    "**Erstellt:** 2025-09-10\n",
    "**Letzte Änderung:** 2025-09-08\n",
    "\n",
    "\n",
    "---"
   ]
  }
 ],
 "metadata": {
  "language_info": {
   "name": "python"
  }
 },
 "nbformat": 4,
 "nbformat_minor": 5
}
